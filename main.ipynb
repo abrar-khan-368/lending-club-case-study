{
 "cells": [
  {
   "cell_type": "code",
   "execution_count": 21,
   "metadata": {},
   "outputs": [
    {
     "name": "stderr",
     "output_type": "stream",
     "text": [
      "C:\\Users\\akhil\\AppData\\Local\\Temp/ipykernel_3916/174641395.py:6: DtypeWarning: Columns (47) have mixed types. Specify dtype option on import or set low_memory=False.\n",
      "  df = pd.read_csv('loan.csv', sep=',')\n"
     ]
    },
    {
     "data": {
      "text/html": [
       "<div>\n",
       "<style scoped>\n",
       "    .dataframe tbody tr th:only-of-type {\n",
       "        vertical-align: middle;\n",
       "    }\n",
       "\n",
       "    .dataframe tbody tr th {\n",
       "        vertical-align: top;\n",
       "    }\n",
       "\n",
       "    .dataframe thead th {\n",
       "        text-align: right;\n",
       "    }\n",
       "</style>\n",
       "<table border=\"1\" class=\"dataframe\">\n",
       "  <thead>\n",
       "    <tr style=\"text-align: right;\">\n",
       "      <th></th>\n",
       "      <th>id</th>\n",
       "      <th>member_id</th>\n",
       "      <th>loan_amnt</th>\n",
       "      <th>funded_amnt</th>\n",
       "      <th>funded_amnt_inv</th>\n",
       "      <th>term</th>\n",
       "      <th>int_rate</th>\n",
       "      <th>installment</th>\n",
       "      <th>grade</th>\n",
       "      <th>sub_grade</th>\n",
       "      <th>...</th>\n",
       "      <th>num_tl_90g_dpd_24m</th>\n",
       "      <th>num_tl_op_past_12m</th>\n",
       "      <th>pct_tl_nvr_dlq</th>\n",
       "      <th>percent_bc_gt_75</th>\n",
       "      <th>pub_rec_bankruptcies</th>\n",
       "      <th>tax_liens</th>\n",
       "      <th>tot_hi_cred_lim</th>\n",
       "      <th>total_bal_ex_mort</th>\n",
       "      <th>total_bc_limit</th>\n",
       "      <th>total_il_high_credit_limit</th>\n",
       "    </tr>\n",
       "  </thead>\n",
       "  <tbody>\n",
       "    <tr>\n",
       "      <th>0</th>\n",
       "      <td>1077501</td>\n",
       "      <td>1296599</td>\n",
       "      <td>5000</td>\n",
       "      <td>5000</td>\n",
       "      <td>4975.0</td>\n",
       "      <td>36 months</td>\n",
       "      <td>10.65%</td>\n",
       "      <td>162.87</td>\n",
       "      <td>B</td>\n",
       "      <td>B2</td>\n",
       "      <td>...</td>\n",
       "      <td>NaN</td>\n",
       "      <td>NaN</td>\n",
       "      <td>NaN</td>\n",
       "      <td>NaN</td>\n",
       "      <td>0.0</td>\n",
       "      <td>0.0</td>\n",
       "      <td>NaN</td>\n",
       "      <td>NaN</td>\n",
       "      <td>NaN</td>\n",
       "      <td>NaN</td>\n",
       "    </tr>\n",
       "    <tr>\n",
       "      <th>1</th>\n",
       "      <td>1077430</td>\n",
       "      <td>1314167</td>\n",
       "      <td>2500</td>\n",
       "      <td>2500</td>\n",
       "      <td>2500.0</td>\n",
       "      <td>60 months</td>\n",
       "      <td>15.27%</td>\n",
       "      <td>59.83</td>\n",
       "      <td>C</td>\n",
       "      <td>C4</td>\n",
       "      <td>...</td>\n",
       "      <td>NaN</td>\n",
       "      <td>NaN</td>\n",
       "      <td>NaN</td>\n",
       "      <td>NaN</td>\n",
       "      <td>0.0</td>\n",
       "      <td>0.0</td>\n",
       "      <td>NaN</td>\n",
       "      <td>NaN</td>\n",
       "      <td>NaN</td>\n",
       "      <td>NaN</td>\n",
       "    </tr>\n",
       "    <tr>\n",
       "      <th>2</th>\n",
       "      <td>1077175</td>\n",
       "      <td>1313524</td>\n",
       "      <td>2400</td>\n",
       "      <td>2400</td>\n",
       "      <td>2400.0</td>\n",
       "      <td>36 months</td>\n",
       "      <td>15.96%</td>\n",
       "      <td>84.33</td>\n",
       "      <td>C</td>\n",
       "      <td>C5</td>\n",
       "      <td>...</td>\n",
       "      <td>NaN</td>\n",
       "      <td>NaN</td>\n",
       "      <td>NaN</td>\n",
       "      <td>NaN</td>\n",
       "      <td>0.0</td>\n",
       "      <td>0.0</td>\n",
       "      <td>NaN</td>\n",
       "      <td>NaN</td>\n",
       "      <td>NaN</td>\n",
       "      <td>NaN</td>\n",
       "    </tr>\n",
       "    <tr>\n",
       "      <th>3</th>\n",
       "      <td>1076863</td>\n",
       "      <td>1277178</td>\n",
       "      <td>10000</td>\n",
       "      <td>10000</td>\n",
       "      <td>10000.0</td>\n",
       "      <td>36 months</td>\n",
       "      <td>13.49%</td>\n",
       "      <td>339.31</td>\n",
       "      <td>C</td>\n",
       "      <td>C1</td>\n",
       "      <td>...</td>\n",
       "      <td>NaN</td>\n",
       "      <td>NaN</td>\n",
       "      <td>NaN</td>\n",
       "      <td>NaN</td>\n",
       "      <td>0.0</td>\n",
       "      <td>0.0</td>\n",
       "      <td>NaN</td>\n",
       "      <td>NaN</td>\n",
       "      <td>NaN</td>\n",
       "      <td>NaN</td>\n",
       "    </tr>\n",
       "    <tr>\n",
       "      <th>4</th>\n",
       "      <td>1075358</td>\n",
       "      <td>1311748</td>\n",
       "      <td>3000</td>\n",
       "      <td>3000</td>\n",
       "      <td>3000.0</td>\n",
       "      <td>60 months</td>\n",
       "      <td>12.69%</td>\n",
       "      <td>67.79</td>\n",
       "      <td>B</td>\n",
       "      <td>B5</td>\n",
       "      <td>...</td>\n",
       "      <td>NaN</td>\n",
       "      <td>NaN</td>\n",
       "      <td>NaN</td>\n",
       "      <td>NaN</td>\n",
       "      <td>0.0</td>\n",
       "      <td>0.0</td>\n",
       "      <td>NaN</td>\n",
       "      <td>NaN</td>\n",
       "      <td>NaN</td>\n",
       "      <td>NaN</td>\n",
       "    </tr>\n",
       "  </tbody>\n",
       "</table>\n",
       "<p>5 rows × 111 columns</p>\n",
       "</div>"
      ],
      "text/plain": [
       "        id  member_id  loan_amnt  funded_amnt  funded_amnt_inv        term   \n",
       "0  1077501    1296599       5000         5000           4975.0   36 months  \\\n",
       "1  1077430    1314167       2500         2500           2500.0   60 months   \n",
       "2  1077175    1313524       2400         2400           2400.0   36 months   \n",
       "3  1076863    1277178      10000        10000          10000.0   36 months   \n",
       "4  1075358    1311748       3000         3000           3000.0   60 months   \n",
       "\n",
       "  int_rate  installment grade sub_grade  ... num_tl_90g_dpd_24m   \n",
       "0   10.65%       162.87     B        B2  ...                NaN  \\\n",
       "1   15.27%        59.83     C        C4  ...                NaN   \n",
       "2   15.96%        84.33     C        C5  ...                NaN   \n",
       "3   13.49%       339.31     C        C1  ...                NaN   \n",
       "4   12.69%        67.79     B        B5  ...                NaN   \n",
       "\n",
       "  num_tl_op_past_12m pct_tl_nvr_dlq  percent_bc_gt_75 pub_rec_bankruptcies   \n",
       "0                NaN            NaN               NaN                  0.0  \\\n",
       "1                NaN            NaN               NaN                  0.0   \n",
       "2                NaN            NaN               NaN                  0.0   \n",
       "3                NaN            NaN               NaN                  0.0   \n",
       "4                NaN            NaN               NaN                  0.0   \n",
       "\n",
       "  tax_liens tot_hi_cred_lim total_bal_ex_mort total_bc_limit   \n",
       "0       0.0             NaN               NaN            NaN  \\\n",
       "1       0.0             NaN               NaN            NaN   \n",
       "2       0.0             NaN               NaN            NaN   \n",
       "3       0.0             NaN               NaN            NaN   \n",
       "4       0.0             NaN               NaN            NaN   \n",
       "\n",
       "  total_il_high_credit_limit  \n",
       "0                        NaN  \n",
       "1                        NaN  \n",
       "2                        NaN  \n",
       "3                        NaN  \n",
       "4                        NaN  \n",
       "\n",
       "[5 rows x 111 columns]"
      ]
     },
     "execution_count": 21,
     "metadata": {},
     "output_type": "execute_result"
    }
   ],
   "source": [
    "import pandas as pd\n",
    "import numpy as np\n",
    "import matplotlib.pyplot as plot\n",
    "import seaborn as sns\n",
    "df = pd.read_csv('loan.csv', sep=',')\n",
    "df.head()"
   ]
  },
  {
   "cell_type": "code",
   "execution_count": 22,
   "metadata": {},
   "outputs": [
    {
     "name": "stdout",
     "output_type": "stream",
     "text": [
      "Index(['id', 'member_id', 'loan_amnt', 'funded_amnt', 'funded_amnt_inv',\n",
      "       'term', 'int_rate', 'installment', 'grade', 'sub_grade',\n",
      "       ...\n",
      "       'num_tl_90g_dpd_24m', 'num_tl_op_past_12m', 'pct_tl_nvr_dlq',\n",
      "       'percent_bc_gt_75', 'pub_rec_bankruptcies', 'tax_liens',\n",
      "       'tot_hi_cred_lim', 'total_bal_ex_mort', 'total_bc_limit',\n",
      "       'total_il_high_credit_limit'],\n",
      "      dtype='object', length=111)\n"
     ]
    }
   ],
   "source": [
    "print(df.columns)"
   ]
  },
  {
   "cell_type": "code",
   "execution_count": 23,
   "metadata": {},
   "outputs": [
    {
     "data": {
      "text/plain": [
       "id                                0\n",
       "member_id                         0\n",
       "loan_amnt                         0\n",
       "funded_amnt                       0\n",
       "funded_amnt_inv                   0\n",
       "                              ...  \n",
       "tax_liens                        39\n",
       "tot_hi_cred_lim               39717\n",
       "total_bal_ex_mort             39717\n",
       "total_bc_limit                39717\n",
       "total_il_high_credit_limit    39717\n",
       "Length: 111, dtype: int64"
      ]
     },
     "execution_count": 23,
     "metadata": {},
     "output_type": "execute_result"
    }
   ],
   "source": [
    "df.isna().sum()"
   ]
  },
  {
   "cell_type": "code",
   "execution_count": 24,
   "metadata": {},
   "outputs": [
    {
     "data": {
      "text/plain": [
       "id                            39717\n",
       "member_id                     39717\n",
       "loan_amnt                       885\n",
       "funded_amnt                    1041\n",
       "funded_amnt_inv                8205\n",
       "                              ...  \n",
       "tax_liens                         1\n",
       "tot_hi_cred_lim                   0\n",
       "total_bal_ex_mort                 0\n",
       "total_bc_limit                    0\n",
       "total_il_high_credit_limit        0\n",
       "Length: 111, dtype: int64"
      ]
     },
     "execution_count": 24,
     "metadata": {},
     "output_type": "execute_result"
    }
   ],
   "source": [
    "df.nunique()"
   ]
  },
  {
   "cell_type": "code",
   "execution_count": 6,
   "metadata": {},
   "outputs": [
    {
     "data": {
      "text/html": [
       "<div>\n",
       "<style scoped>\n",
       "    .dataframe tbody tr th:only-of-type {\n",
       "        vertical-align: middle;\n",
       "    }\n",
       "\n",
       "    .dataframe tbody tr th {\n",
       "        vertical-align: top;\n",
       "    }\n",
       "\n",
       "    .dataframe thead th {\n",
       "        text-align: right;\n",
       "    }\n",
       "</style>\n",
       "<table border=\"1\" class=\"dataframe\">\n",
       "  <thead>\n",
       "    <tr style=\"text-align: right;\">\n",
       "      <th></th>\n",
       "      <th>id</th>\n",
       "      <th>member_id</th>\n",
       "      <th>loan_amnt</th>\n",
       "      <th>funded_amnt</th>\n",
       "      <th>funded_amnt_inv</th>\n",
       "      <th>term</th>\n",
       "      <th>int_rate</th>\n",
       "      <th>installment</th>\n",
       "      <th>grade</th>\n",
       "      <th>sub_grade</th>\n",
       "      <th>...</th>\n",
       "      <th>next_pymnt_d</th>\n",
       "      <th>last_credit_pull_d</th>\n",
       "      <th>collections_12_mths_ex_med</th>\n",
       "      <th>policy_code</th>\n",
       "      <th>application_type</th>\n",
       "      <th>acc_now_delinq</th>\n",
       "      <th>chargeoff_within_12_mths</th>\n",
       "      <th>delinq_amnt</th>\n",
       "      <th>pub_rec_bankruptcies</th>\n",
       "      <th>tax_liens</th>\n",
       "    </tr>\n",
       "  </thead>\n",
       "  <tbody>\n",
       "    <tr>\n",
       "      <th>0</th>\n",
       "      <td>1077501</td>\n",
       "      <td>1296599</td>\n",
       "      <td>5000</td>\n",
       "      <td>5000</td>\n",
       "      <td>4975.0</td>\n",
       "      <td>36 months</td>\n",
       "      <td>10.65%</td>\n",
       "      <td>162.87</td>\n",
       "      <td>B</td>\n",
       "      <td>B2</td>\n",
       "      <td>...</td>\n",
       "      <td>NaN</td>\n",
       "      <td>May-16</td>\n",
       "      <td>0.0</td>\n",
       "      <td>1</td>\n",
       "      <td>INDIVIDUAL</td>\n",
       "      <td>0</td>\n",
       "      <td>0.0</td>\n",
       "      <td>0</td>\n",
       "      <td>0.0</td>\n",
       "      <td>0.0</td>\n",
       "    </tr>\n",
       "    <tr>\n",
       "      <th>1</th>\n",
       "      <td>1077430</td>\n",
       "      <td>1314167</td>\n",
       "      <td>2500</td>\n",
       "      <td>2500</td>\n",
       "      <td>2500.0</td>\n",
       "      <td>60 months</td>\n",
       "      <td>15.27%</td>\n",
       "      <td>59.83</td>\n",
       "      <td>C</td>\n",
       "      <td>C4</td>\n",
       "      <td>...</td>\n",
       "      <td>NaN</td>\n",
       "      <td>Sep-13</td>\n",
       "      <td>0.0</td>\n",
       "      <td>1</td>\n",
       "      <td>INDIVIDUAL</td>\n",
       "      <td>0</td>\n",
       "      <td>0.0</td>\n",
       "      <td>0</td>\n",
       "      <td>0.0</td>\n",
       "      <td>0.0</td>\n",
       "    </tr>\n",
       "    <tr>\n",
       "      <th>2</th>\n",
       "      <td>1077175</td>\n",
       "      <td>1313524</td>\n",
       "      <td>2400</td>\n",
       "      <td>2400</td>\n",
       "      <td>2400.0</td>\n",
       "      <td>36 months</td>\n",
       "      <td>15.96%</td>\n",
       "      <td>84.33</td>\n",
       "      <td>C</td>\n",
       "      <td>C5</td>\n",
       "      <td>...</td>\n",
       "      <td>NaN</td>\n",
       "      <td>May-16</td>\n",
       "      <td>0.0</td>\n",
       "      <td>1</td>\n",
       "      <td>INDIVIDUAL</td>\n",
       "      <td>0</td>\n",
       "      <td>0.0</td>\n",
       "      <td>0</td>\n",
       "      <td>0.0</td>\n",
       "      <td>0.0</td>\n",
       "    </tr>\n",
       "    <tr>\n",
       "      <th>3</th>\n",
       "      <td>1076863</td>\n",
       "      <td>1277178</td>\n",
       "      <td>10000</td>\n",
       "      <td>10000</td>\n",
       "      <td>10000.0</td>\n",
       "      <td>36 months</td>\n",
       "      <td>13.49%</td>\n",
       "      <td>339.31</td>\n",
       "      <td>C</td>\n",
       "      <td>C1</td>\n",
       "      <td>...</td>\n",
       "      <td>NaN</td>\n",
       "      <td>Apr-16</td>\n",
       "      <td>0.0</td>\n",
       "      <td>1</td>\n",
       "      <td>INDIVIDUAL</td>\n",
       "      <td>0</td>\n",
       "      <td>0.0</td>\n",
       "      <td>0</td>\n",
       "      <td>0.0</td>\n",
       "      <td>0.0</td>\n",
       "    </tr>\n",
       "    <tr>\n",
       "      <th>4</th>\n",
       "      <td>1075358</td>\n",
       "      <td>1311748</td>\n",
       "      <td>3000</td>\n",
       "      <td>3000</td>\n",
       "      <td>3000.0</td>\n",
       "      <td>60 months</td>\n",
       "      <td>12.69%</td>\n",
       "      <td>67.79</td>\n",
       "      <td>B</td>\n",
       "      <td>B5</td>\n",
       "      <td>...</td>\n",
       "      <td>Jun-16</td>\n",
       "      <td>May-16</td>\n",
       "      <td>0.0</td>\n",
       "      <td>1</td>\n",
       "      <td>INDIVIDUAL</td>\n",
       "      <td>0</td>\n",
       "      <td>0.0</td>\n",
       "      <td>0</td>\n",
       "      <td>0.0</td>\n",
       "      <td>0.0</td>\n",
       "    </tr>\n",
       "  </tbody>\n",
       "</table>\n",
       "<p>5 rows × 57 columns</p>\n",
       "</div>"
      ],
      "text/plain": [
       "        id  member_id  loan_amnt  funded_amnt  funded_amnt_inv        term   \n",
       "0  1077501    1296599       5000         5000           4975.0   36 months  \\\n",
       "1  1077430    1314167       2500         2500           2500.0   60 months   \n",
       "2  1077175    1313524       2400         2400           2400.0   36 months   \n",
       "3  1076863    1277178      10000        10000          10000.0   36 months   \n",
       "4  1075358    1311748       3000         3000           3000.0   60 months   \n",
       "\n",
       "  int_rate  installment grade sub_grade  ... next_pymnt_d last_credit_pull_d   \n",
       "0   10.65%       162.87     B        B2  ...          NaN             May-16  \\\n",
       "1   15.27%        59.83     C        C4  ...          NaN             Sep-13   \n",
       "2   15.96%        84.33     C        C5  ...          NaN             May-16   \n",
       "3   13.49%       339.31     C        C1  ...          NaN             Apr-16   \n",
       "4   12.69%        67.79     B        B5  ...       Jun-16             May-16   \n",
       "\n",
       "  collections_12_mths_ex_med  policy_code application_type acc_now_delinq   \n",
       "0                        0.0            1       INDIVIDUAL              0  \\\n",
       "1                        0.0            1       INDIVIDUAL              0   \n",
       "2                        0.0            1       INDIVIDUAL              0   \n",
       "3                        0.0            1       INDIVIDUAL              0   \n",
       "4                        0.0            1       INDIVIDUAL              0   \n",
       "\n",
       "  chargeoff_within_12_mths delinq_amnt pub_rec_bankruptcies tax_liens  \n",
       "0                      0.0           0                  0.0       0.0  \n",
       "1                      0.0           0                  0.0       0.0  \n",
       "2                      0.0           0                  0.0       0.0  \n",
       "3                      0.0           0                  0.0       0.0  \n",
       "4                      0.0           0                  0.0       0.0  \n",
       "\n",
       "[5 rows x 57 columns]"
      ]
     },
     "execution_count": 6,
     "metadata": {},
     "output_type": "execute_result"
    }
   ],
   "source": [
    "#removing null columns from data\n",
    "df.dropna(axis = 1, how = 'all', inplace=True)\n",
    "df.head()"
   ]
  },
  {
   "cell_type": "code",
   "execution_count": 25,
   "metadata": {},
   "outputs": [],
   "source": [
    "## find the missing values\n",
    "percent_missing = df.isnull().sum() * 100 / len(df)\n",
    "missing_value_df = pd.DataFrame({'column_name': df.columns,\n",
    "                                 'percent_missing': percent_missing})"
   ]
  },
  {
   "cell_type": "code",
   "execution_count": 26,
   "metadata": {},
   "outputs": [
    {
     "data": {
      "text/html": [
       "<div>\n",
       "<style scoped>\n",
       "    .dataframe tbody tr th:only-of-type {\n",
       "        vertical-align: middle;\n",
       "    }\n",
       "\n",
       "    .dataframe tbody tr th {\n",
       "        vertical-align: top;\n",
       "    }\n",
       "\n",
       "    .dataframe thead th {\n",
       "        text-align: right;\n",
       "    }\n",
       "</style>\n",
       "<table border=\"1\" class=\"dataframe\">\n",
       "  <thead>\n",
       "    <tr style=\"text-align: right;\">\n",
       "      <th></th>\n",
       "      <th>column_name</th>\n",
       "      <th>percent_missing</th>\n",
       "    </tr>\n",
       "  </thead>\n",
       "  <tbody>\n",
       "    <tr>\n",
       "      <th>id</th>\n",
       "      <td>id</td>\n",
       "      <td>0.000000</td>\n",
       "    </tr>\n",
       "    <tr>\n",
       "      <th>member_id</th>\n",
       "      <td>member_id</td>\n",
       "      <td>0.000000</td>\n",
       "    </tr>\n",
       "    <tr>\n",
       "      <th>loan_amnt</th>\n",
       "      <td>loan_amnt</td>\n",
       "      <td>0.000000</td>\n",
       "    </tr>\n",
       "    <tr>\n",
       "      <th>funded_amnt</th>\n",
       "      <td>funded_amnt</td>\n",
       "      <td>0.000000</td>\n",
       "    </tr>\n",
       "    <tr>\n",
       "      <th>funded_amnt_inv</th>\n",
       "      <td>funded_amnt_inv</td>\n",
       "      <td>0.000000</td>\n",
       "    </tr>\n",
       "    <tr>\n",
       "      <th>...</th>\n",
       "      <td>...</td>\n",
       "      <td>...</td>\n",
       "    </tr>\n",
       "    <tr>\n",
       "      <th>tax_liens</th>\n",
       "      <td>tax_liens</td>\n",
       "      <td>0.098195</td>\n",
       "    </tr>\n",
       "    <tr>\n",
       "      <th>tot_hi_cred_lim</th>\n",
       "      <td>tot_hi_cred_lim</td>\n",
       "      <td>100.000000</td>\n",
       "    </tr>\n",
       "    <tr>\n",
       "      <th>total_bal_ex_mort</th>\n",
       "      <td>total_bal_ex_mort</td>\n",
       "      <td>100.000000</td>\n",
       "    </tr>\n",
       "    <tr>\n",
       "      <th>total_bc_limit</th>\n",
       "      <td>total_bc_limit</td>\n",
       "      <td>100.000000</td>\n",
       "    </tr>\n",
       "    <tr>\n",
       "      <th>total_il_high_credit_limit</th>\n",
       "      <td>total_il_high_credit_limit</td>\n",
       "      <td>100.000000</td>\n",
       "    </tr>\n",
       "  </tbody>\n",
       "</table>\n",
       "<p>111 rows × 2 columns</p>\n",
       "</div>"
      ],
      "text/plain": [
       "                                           column_name  percent_missing\n",
       "id                                                  id         0.000000\n",
       "member_id                                    member_id         0.000000\n",
       "loan_amnt                                    loan_amnt         0.000000\n",
       "funded_amnt                                funded_amnt         0.000000\n",
       "funded_amnt_inv                        funded_amnt_inv         0.000000\n",
       "...                                                ...              ...\n",
       "tax_liens                                    tax_liens         0.098195\n",
       "tot_hi_cred_lim                        tot_hi_cred_lim       100.000000\n",
       "total_bal_ex_mort                    total_bal_ex_mort       100.000000\n",
       "total_bc_limit                          total_bc_limit       100.000000\n",
       "total_il_high_credit_limit  total_il_high_credit_limit       100.000000\n",
       "\n",
       "[111 rows x 2 columns]"
      ]
     },
     "execution_count": 26,
     "metadata": {},
     "output_type": "execute_result"
    }
   ],
   "source": [
    "missing_value_df"
   ]
  },
  {
   "cell_type": "code",
   "execution_count": 27,
   "metadata": {},
   "outputs": [],
   "source": [
    "## filter the column with greater than 3% null values\n",
    "df_v1 = missing_value_df[missing_value_df['percent_missing']<3]"
   ]
  },
  {
   "cell_type": "code",
   "execution_count": 29,
   "metadata": {},
   "outputs": [],
   "source": [
    "## Create new df with less than columns having less thant 3% null values\n",
    "col = df_v1.index\n",
    "df = df[col]"
   ]
  },
  {
   "cell_type": "code",
   "execution_count": 30,
   "metadata": {},
   "outputs": [
    {
     "data": {
      "text/plain": [
       "(39717, 52)"
      ]
     },
     "execution_count": 30,
     "metadata": {},
     "output_type": "execute_result"
    }
   ],
   "source": [
    "df.shape"
   ]
  },
  {
   "cell_type": "code",
   "execution_count": 32,
   "metadata": {},
   "outputs": [
    {
     "data": {
      "text/html": [
       "<div>\n",
       "<style scoped>\n",
       "    .dataframe tbody tr th:only-of-type {\n",
       "        vertical-align: middle;\n",
       "    }\n",
       "\n",
       "    .dataframe tbody tr th {\n",
       "        vertical-align: top;\n",
       "    }\n",
       "\n",
       "    .dataframe thead th {\n",
       "        text-align: right;\n",
       "    }\n",
       "</style>\n",
       "<table border=\"1\" class=\"dataframe\">\n",
       "  <thead>\n",
       "    <tr style=\"text-align: right;\">\n",
       "      <th></th>\n",
       "      <th>loan_amnt</th>\n",
       "      <th>funded_amnt</th>\n",
       "      <th>funded_amnt_inv</th>\n",
       "      <th>term</th>\n",
       "      <th>int_rate</th>\n",
       "      <th>installment</th>\n",
       "      <th>grade</th>\n",
       "      <th>sub_grade</th>\n",
       "      <th>emp_length</th>\n",
       "      <th>home_ownership</th>\n",
       "      <th>...</th>\n",
       "      <th>total_pymnt</th>\n",
       "      <th>total_pymnt_inv</th>\n",
       "      <th>total_rec_prncp</th>\n",
       "      <th>last_pymnt_d</th>\n",
       "      <th>last_pymnt_amnt</th>\n",
       "      <th>last_credit_pull_d</th>\n",
       "      <th>policy_code</th>\n",
       "      <th>application_type</th>\n",
       "      <th>acc_now_delinq</th>\n",
       "      <th>delinq_amnt</th>\n",
       "    </tr>\n",
       "  </thead>\n",
       "  <tbody>\n",
       "    <tr>\n",
       "      <th>0</th>\n",
       "      <td>5000</td>\n",
       "      <td>5000</td>\n",
       "      <td>4975.0</td>\n",
       "      <td>36 months</td>\n",
       "      <td>10.65%</td>\n",
       "      <td>162.87</td>\n",
       "      <td>B</td>\n",
       "      <td>B2</td>\n",
       "      <td>10+ years</td>\n",
       "      <td>RENT</td>\n",
       "      <td>...</td>\n",
       "      <td>5863.155187</td>\n",
       "      <td>5833.84</td>\n",
       "      <td>5000.00</td>\n",
       "      <td>Jan-15</td>\n",
       "      <td>171.62</td>\n",
       "      <td>May-16</td>\n",
       "      <td>1</td>\n",
       "      <td>INDIVIDUAL</td>\n",
       "      <td>0</td>\n",
       "      <td>0</td>\n",
       "    </tr>\n",
       "    <tr>\n",
       "      <th>1</th>\n",
       "      <td>2500</td>\n",
       "      <td>2500</td>\n",
       "      <td>2500.0</td>\n",
       "      <td>60 months</td>\n",
       "      <td>15.27%</td>\n",
       "      <td>59.83</td>\n",
       "      <td>C</td>\n",
       "      <td>C4</td>\n",
       "      <td>&lt; 1 year</td>\n",
       "      <td>RENT</td>\n",
       "      <td>...</td>\n",
       "      <td>1008.710000</td>\n",
       "      <td>1008.71</td>\n",
       "      <td>456.46</td>\n",
       "      <td>Apr-13</td>\n",
       "      <td>119.66</td>\n",
       "      <td>Sep-13</td>\n",
       "      <td>1</td>\n",
       "      <td>INDIVIDUAL</td>\n",
       "      <td>0</td>\n",
       "      <td>0</td>\n",
       "    </tr>\n",
       "    <tr>\n",
       "      <th>2</th>\n",
       "      <td>2400</td>\n",
       "      <td>2400</td>\n",
       "      <td>2400.0</td>\n",
       "      <td>36 months</td>\n",
       "      <td>15.96%</td>\n",
       "      <td>84.33</td>\n",
       "      <td>C</td>\n",
       "      <td>C5</td>\n",
       "      <td>10+ years</td>\n",
       "      <td>RENT</td>\n",
       "      <td>...</td>\n",
       "      <td>3005.666844</td>\n",
       "      <td>3005.67</td>\n",
       "      <td>2400.00</td>\n",
       "      <td>Jun-14</td>\n",
       "      <td>649.91</td>\n",
       "      <td>May-16</td>\n",
       "      <td>1</td>\n",
       "      <td>INDIVIDUAL</td>\n",
       "      <td>0</td>\n",
       "      <td>0</td>\n",
       "    </tr>\n",
       "    <tr>\n",
       "      <th>3</th>\n",
       "      <td>10000</td>\n",
       "      <td>10000</td>\n",
       "      <td>10000.0</td>\n",
       "      <td>36 months</td>\n",
       "      <td>13.49%</td>\n",
       "      <td>339.31</td>\n",
       "      <td>C</td>\n",
       "      <td>C1</td>\n",
       "      <td>10+ years</td>\n",
       "      <td>RENT</td>\n",
       "      <td>...</td>\n",
       "      <td>12231.890000</td>\n",
       "      <td>12231.89</td>\n",
       "      <td>10000.00</td>\n",
       "      <td>Jan-15</td>\n",
       "      <td>357.48</td>\n",
       "      <td>Apr-16</td>\n",
       "      <td>1</td>\n",
       "      <td>INDIVIDUAL</td>\n",
       "      <td>0</td>\n",
       "      <td>0</td>\n",
       "    </tr>\n",
       "    <tr>\n",
       "      <th>4</th>\n",
       "      <td>3000</td>\n",
       "      <td>3000</td>\n",
       "      <td>3000.0</td>\n",
       "      <td>60 months</td>\n",
       "      <td>12.69%</td>\n",
       "      <td>67.79</td>\n",
       "      <td>B</td>\n",
       "      <td>B5</td>\n",
       "      <td>1 year</td>\n",
       "      <td>RENT</td>\n",
       "      <td>...</td>\n",
       "      <td>3513.330000</td>\n",
       "      <td>3513.33</td>\n",
       "      <td>2475.94</td>\n",
       "      <td>May-16</td>\n",
       "      <td>67.79</td>\n",
       "      <td>May-16</td>\n",
       "      <td>1</td>\n",
       "      <td>INDIVIDUAL</td>\n",
       "      <td>0</td>\n",
       "      <td>0</td>\n",
       "    </tr>\n",
       "  </tbody>\n",
       "</table>\n",
       "<p>5 rows × 37 columns</p>\n",
       "</div>"
      ],
      "text/plain": [
       "   loan_amnt  funded_amnt  funded_amnt_inv        term int_rate  installment   \n",
       "0       5000         5000           4975.0   36 months   10.65%       162.87  \\\n",
       "1       2500         2500           2500.0   60 months   15.27%        59.83   \n",
       "2       2400         2400           2400.0   36 months   15.96%        84.33   \n",
       "3      10000        10000          10000.0   36 months   13.49%       339.31   \n",
       "4       3000         3000           3000.0   60 months   12.69%        67.79   \n",
       "\n",
       "  grade sub_grade emp_length home_ownership  ...   total_pymnt   \n",
       "0     B        B2  10+ years           RENT  ...   5863.155187  \\\n",
       "1     C        C4   < 1 year           RENT  ...   1008.710000   \n",
       "2     C        C5  10+ years           RENT  ...   3005.666844   \n",
       "3     C        C1  10+ years           RENT  ...  12231.890000   \n",
       "4     B        B5     1 year           RENT  ...   3513.330000   \n",
       "\n",
       "  total_pymnt_inv total_rec_prncp last_pymnt_d last_pymnt_amnt   \n",
       "0         5833.84         5000.00       Jan-15          171.62  \\\n",
       "1         1008.71          456.46       Apr-13          119.66   \n",
       "2         3005.67         2400.00       Jun-14          649.91   \n",
       "3        12231.89        10000.00       Jan-15          357.48   \n",
       "4         3513.33         2475.94       May-16           67.79   \n",
       "\n",
       "   last_credit_pull_d  policy_code application_type  acc_now_delinq   \n",
       "0              May-16            1       INDIVIDUAL               0  \\\n",
       "1              Sep-13            1       INDIVIDUAL               0   \n",
       "2              May-16            1       INDIVIDUAL               0   \n",
       "3              Apr-16            1       INDIVIDUAL               0   \n",
       "4              May-16            1       INDIVIDUAL               0   \n",
       "\n",
       "   delinq_amnt  \n",
       "0            0  \n",
       "1            0  \n",
       "2            0  \n",
       "3            0  \n",
       "4            0  \n",
       "\n",
       "[5 rows x 37 columns]"
      ]
     },
     "execution_count": 32,
     "metadata": {},
     "output_type": "execute_result"
    }
   ],
   "source": [
    "#columns which are irrelevant for us in analysis\n",
    "#print(df.columns)\n",
    "df.drop(['id', 'member_id', 'url', 'title','zip_code', 'addr_state','total_rec_int', 'total_rec_late_fee', 'recoveries', 'collection_recovery_fee', 'chargeoff_within_12_mths', 'pymnt_plan', 'tax_liens', 'collections_12_mths_ex_med', 'pub_rec_bankruptcies'], axis = 1, inplace = True)\n",
    "\n",
    "df.head()"
   ]
  },
  {
   "cell_type": "code",
   "execution_count": 33,
   "metadata": {},
   "outputs": [
    {
     "data": {
      "text/html": [
       "<div>\n",
       "<style scoped>\n",
       "    .dataframe tbody tr th:only-of-type {\n",
       "        vertical-align: middle;\n",
       "    }\n",
       "\n",
       "    .dataframe tbody tr th {\n",
       "        vertical-align: top;\n",
       "    }\n",
       "\n",
       "    .dataframe thead th {\n",
       "        text-align: right;\n",
       "    }\n",
       "</style>\n",
       "<table border=\"1\" class=\"dataframe\">\n",
       "  <thead>\n",
       "    <tr style=\"text-align: right;\">\n",
       "      <th></th>\n",
       "      <th>count</th>\n",
       "      <th>mean</th>\n",
       "      <th>std</th>\n",
       "      <th>min</th>\n",
       "      <th>25%</th>\n",
       "      <th>50%</th>\n",
       "      <th>75%</th>\n",
       "      <th>max</th>\n",
       "    </tr>\n",
       "  </thead>\n",
       "  <tbody>\n",
       "    <tr>\n",
       "      <th>loan_amnt</th>\n",
       "      <td>39717.0</td>\n",
       "      <td>11219.443815</td>\n",
       "      <td>7456.670694</td>\n",
       "      <td>500.00</td>\n",
       "      <td>5500.00</td>\n",
       "      <td>10000.000000</td>\n",
       "      <td>15000.00000</td>\n",
       "      <td>3.500000e+04</td>\n",
       "    </tr>\n",
       "    <tr>\n",
       "      <th>funded_amnt</th>\n",
       "      <td>39717.0</td>\n",
       "      <td>10947.713196</td>\n",
       "      <td>7187.238670</td>\n",
       "      <td>500.00</td>\n",
       "      <td>5400.00</td>\n",
       "      <td>9600.000000</td>\n",
       "      <td>15000.00000</td>\n",
       "      <td>3.500000e+04</td>\n",
       "    </tr>\n",
       "    <tr>\n",
       "      <th>funded_amnt_inv</th>\n",
       "      <td>39717.0</td>\n",
       "      <td>10397.448868</td>\n",
       "      <td>7128.450439</td>\n",
       "      <td>0.00</td>\n",
       "      <td>5000.00</td>\n",
       "      <td>8975.000000</td>\n",
       "      <td>14400.00000</td>\n",
       "      <td>3.500000e+04</td>\n",
       "    </tr>\n",
       "    <tr>\n",
       "      <th>installment</th>\n",
       "      <td>39717.0</td>\n",
       "      <td>324.561922</td>\n",
       "      <td>208.874874</td>\n",
       "      <td>15.69</td>\n",
       "      <td>167.02</td>\n",
       "      <td>280.220000</td>\n",
       "      <td>430.78000</td>\n",
       "      <td>1.305190e+03</td>\n",
       "    </tr>\n",
       "    <tr>\n",
       "      <th>annual_inc</th>\n",
       "      <td>39717.0</td>\n",
       "      <td>68968.926377</td>\n",
       "      <td>63793.765790</td>\n",
       "      <td>4000.00</td>\n",
       "      <td>40404.00</td>\n",
       "      <td>59000.000000</td>\n",
       "      <td>82300.00000</td>\n",
       "      <td>6.000000e+06</td>\n",
       "    </tr>\n",
       "    <tr>\n",
       "      <th>dti</th>\n",
       "      <td>39717.0</td>\n",
       "      <td>13.315130</td>\n",
       "      <td>6.678594</td>\n",
       "      <td>0.00</td>\n",
       "      <td>8.17</td>\n",
       "      <td>13.400000</td>\n",
       "      <td>18.60000</td>\n",
       "      <td>2.999000e+01</td>\n",
       "    </tr>\n",
       "    <tr>\n",
       "      <th>delinq_2yrs</th>\n",
       "      <td>39717.0</td>\n",
       "      <td>0.146512</td>\n",
       "      <td>0.491812</td>\n",
       "      <td>0.00</td>\n",
       "      <td>0.00</td>\n",
       "      <td>0.000000</td>\n",
       "      <td>0.00000</td>\n",
       "      <td>1.100000e+01</td>\n",
       "    </tr>\n",
       "    <tr>\n",
       "      <th>inq_last_6mths</th>\n",
       "      <td>39717.0</td>\n",
       "      <td>0.869200</td>\n",
       "      <td>1.070219</td>\n",
       "      <td>0.00</td>\n",
       "      <td>0.00</td>\n",
       "      <td>1.000000</td>\n",
       "      <td>1.00000</td>\n",
       "      <td>8.000000e+00</td>\n",
       "    </tr>\n",
       "    <tr>\n",
       "      <th>open_acc</th>\n",
       "      <td>39717.0</td>\n",
       "      <td>9.294408</td>\n",
       "      <td>4.400282</td>\n",
       "      <td>2.00</td>\n",
       "      <td>6.00</td>\n",
       "      <td>9.000000</td>\n",
       "      <td>12.00000</td>\n",
       "      <td>4.400000e+01</td>\n",
       "    </tr>\n",
       "    <tr>\n",
       "      <th>pub_rec</th>\n",
       "      <td>39717.0</td>\n",
       "      <td>0.055065</td>\n",
       "      <td>0.237200</td>\n",
       "      <td>0.00</td>\n",
       "      <td>0.00</td>\n",
       "      <td>0.000000</td>\n",
       "      <td>0.00000</td>\n",
       "      <td>4.000000e+00</td>\n",
       "    </tr>\n",
       "    <tr>\n",
       "      <th>revol_bal</th>\n",
       "      <td>39717.0</td>\n",
       "      <td>13382.528086</td>\n",
       "      <td>15885.016641</td>\n",
       "      <td>0.00</td>\n",
       "      <td>3703.00</td>\n",
       "      <td>8850.000000</td>\n",
       "      <td>17058.00000</td>\n",
       "      <td>1.495880e+05</td>\n",
       "    </tr>\n",
       "    <tr>\n",
       "      <th>total_acc</th>\n",
       "      <td>39717.0</td>\n",
       "      <td>22.088828</td>\n",
       "      <td>11.401709</td>\n",
       "      <td>2.00</td>\n",
       "      <td>13.00</td>\n",
       "      <td>20.000000</td>\n",
       "      <td>29.00000</td>\n",
       "      <td>9.000000e+01</td>\n",
       "    </tr>\n",
       "    <tr>\n",
       "      <th>out_prncp</th>\n",
       "      <td>39717.0</td>\n",
       "      <td>51.227887</td>\n",
       "      <td>375.172839</td>\n",
       "      <td>0.00</td>\n",
       "      <td>0.00</td>\n",
       "      <td>0.000000</td>\n",
       "      <td>0.00000</td>\n",
       "      <td>6.311470e+03</td>\n",
       "    </tr>\n",
       "    <tr>\n",
       "      <th>out_prncp_inv</th>\n",
       "      <td>39717.0</td>\n",
       "      <td>50.989768</td>\n",
       "      <td>373.824457</td>\n",
       "      <td>0.00</td>\n",
       "      <td>0.00</td>\n",
       "      <td>0.000000</td>\n",
       "      <td>0.00000</td>\n",
       "      <td>6.307370e+03</td>\n",
       "    </tr>\n",
       "    <tr>\n",
       "      <th>total_pymnt</th>\n",
       "      <td>39717.0</td>\n",
       "      <td>12153.596544</td>\n",
       "      <td>9042.040766</td>\n",
       "      <td>0.00</td>\n",
       "      <td>5576.93</td>\n",
       "      <td>9899.640319</td>\n",
       "      <td>16534.43304</td>\n",
       "      <td>5.856368e+04</td>\n",
       "    </tr>\n",
       "    <tr>\n",
       "      <th>total_pymnt_inv</th>\n",
       "      <td>39717.0</td>\n",
       "      <td>11567.149118</td>\n",
       "      <td>8942.672613</td>\n",
       "      <td>0.00</td>\n",
       "      <td>5112.31</td>\n",
       "      <td>9287.150000</td>\n",
       "      <td>15798.81000</td>\n",
       "      <td>5.856368e+04</td>\n",
       "    </tr>\n",
       "    <tr>\n",
       "      <th>total_rec_prncp</th>\n",
       "      <td>39717.0</td>\n",
       "      <td>9793.348813</td>\n",
       "      <td>7065.522127</td>\n",
       "      <td>0.00</td>\n",
       "      <td>4600.00</td>\n",
       "      <td>8000.000000</td>\n",
       "      <td>13653.26000</td>\n",
       "      <td>3.500002e+04</td>\n",
       "    </tr>\n",
       "    <tr>\n",
       "      <th>last_pymnt_amnt</th>\n",
       "      <td>39717.0</td>\n",
       "      <td>2678.826162</td>\n",
       "      <td>4447.136012</td>\n",
       "      <td>0.00</td>\n",
       "      <td>218.68</td>\n",
       "      <td>546.140000</td>\n",
       "      <td>3293.16000</td>\n",
       "      <td>3.611520e+04</td>\n",
       "    </tr>\n",
       "    <tr>\n",
       "      <th>policy_code</th>\n",
       "      <td>39717.0</td>\n",
       "      <td>1.000000</td>\n",
       "      <td>0.000000</td>\n",
       "      <td>1.00</td>\n",
       "      <td>1.00</td>\n",
       "      <td>1.000000</td>\n",
       "      <td>1.00000</td>\n",
       "      <td>1.000000e+00</td>\n",
       "    </tr>\n",
       "    <tr>\n",
       "      <th>acc_now_delinq</th>\n",
       "      <td>39717.0</td>\n",
       "      <td>0.000000</td>\n",
       "      <td>0.000000</td>\n",
       "      <td>0.00</td>\n",
       "      <td>0.00</td>\n",
       "      <td>0.000000</td>\n",
       "      <td>0.00000</td>\n",
       "      <td>0.000000e+00</td>\n",
       "    </tr>\n",
       "    <tr>\n",
       "      <th>delinq_amnt</th>\n",
       "      <td>39717.0</td>\n",
       "      <td>0.000000</td>\n",
       "      <td>0.000000</td>\n",
       "      <td>0.00</td>\n",
       "      <td>0.00</td>\n",
       "      <td>0.000000</td>\n",
       "      <td>0.00000</td>\n",
       "      <td>0.000000e+00</td>\n",
       "    </tr>\n",
       "  </tbody>\n",
       "</table>\n",
       "</div>"
      ],
      "text/plain": [
       "                   count          mean           std      min       25%   \n",
       "loan_amnt        39717.0  11219.443815   7456.670694   500.00   5500.00  \\\n",
       "funded_amnt      39717.0  10947.713196   7187.238670   500.00   5400.00   \n",
       "funded_amnt_inv  39717.0  10397.448868   7128.450439     0.00   5000.00   \n",
       "installment      39717.0    324.561922    208.874874    15.69    167.02   \n",
       "annual_inc       39717.0  68968.926377  63793.765790  4000.00  40404.00   \n",
       "dti              39717.0     13.315130      6.678594     0.00      8.17   \n",
       "delinq_2yrs      39717.0      0.146512      0.491812     0.00      0.00   \n",
       "inq_last_6mths   39717.0      0.869200      1.070219     0.00      0.00   \n",
       "open_acc         39717.0      9.294408      4.400282     2.00      6.00   \n",
       "pub_rec          39717.0      0.055065      0.237200     0.00      0.00   \n",
       "revol_bal        39717.0  13382.528086  15885.016641     0.00   3703.00   \n",
       "total_acc        39717.0     22.088828     11.401709     2.00     13.00   \n",
       "out_prncp        39717.0     51.227887    375.172839     0.00      0.00   \n",
       "out_prncp_inv    39717.0     50.989768    373.824457     0.00      0.00   \n",
       "total_pymnt      39717.0  12153.596544   9042.040766     0.00   5576.93   \n",
       "total_pymnt_inv  39717.0  11567.149118   8942.672613     0.00   5112.31   \n",
       "total_rec_prncp  39717.0   9793.348813   7065.522127     0.00   4600.00   \n",
       "last_pymnt_amnt  39717.0   2678.826162   4447.136012     0.00    218.68   \n",
       "policy_code      39717.0      1.000000      0.000000     1.00      1.00   \n",
       "acc_now_delinq   39717.0      0.000000      0.000000     0.00      0.00   \n",
       "delinq_amnt      39717.0      0.000000      0.000000     0.00      0.00   \n",
       "\n",
       "                          50%          75%           max  \n",
       "loan_amnt        10000.000000  15000.00000  3.500000e+04  \n",
       "funded_amnt       9600.000000  15000.00000  3.500000e+04  \n",
       "funded_amnt_inv   8975.000000  14400.00000  3.500000e+04  \n",
       "installment        280.220000    430.78000  1.305190e+03  \n",
       "annual_inc       59000.000000  82300.00000  6.000000e+06  \n",
       "dti                 13.400000     18.60000  2.999000e+01  \n",
       "delinq_2yrs          0.000000      0.00000  1.100000e+01  \n",
       "inq_last_6mths       1.000000      1.00000  8.000000e+00  \n",
       "open_acc             9.000000     12.00000  4.400000e+01  \n",
       "pub_rec              0.000000      0.00000  4.000000e+00  \n",
       "revol_bal         8850.000000  17058.00000  1.495880e+05  \n",
       "total_acc           20.000000     29.00000  9.000000e+01  \n",
       "out_prncp            0.000000      0.00000  6.311470e+03  \n",
       "out_prncp_inv        0.000000      0.00000  6.307370e+03  \n",
       "total_pymnt       9899.640319  16534.43304  5.856368e+04  \n",
       "total_pymnt_inv   9287.150000  15798.81000  5.856368e+04  \n",
       "total_rec_prncp   8000.000000  13653.26000  3.500002e+04  \n",
       "last_pymnt_amnt    546.140000   3293.16000  3.611520e+04  \n",
       "policy_code          1.000000      1.00000  1.000000e+00  \n",
       "acc_now_delinq       0.000000      0.00000  0.000000e+00  \n",
       "delinq_amnt          0.000000      0.00000  0.000000e+00  "
      ]
     },
     "execution_count": 33,
     "metadata": {},
     "output_type": "execute_result"
    }
   ],
   "source": [
    "df.describe().T"
   ]
  },
  {
   "cell_type": "code",
   "execution_count": 34,
   "metadata": {},
   "outputs": [
    {
     "data": {
      "text/plain": [
       "(39717, 37)"
      ]
     },
     "execution_count": 34,
     "metadata": {},
     "output_type": "execute_result"
    }
   ],
   "source": [
    "df.shape"
   ]
  },
  {
   "cell_type": "code",
   "execution_count": 35,
   "metadata": {},
   "outputs": [
    {
     "data": {
      "text/plain": [
       "array(['Fully Paid', 'Charged Off', 'Current'], dtype=object)"
      ]
     },
     "execution_count": 35,
     "metadata": {},
     "output_type": "execute_result"
    }
   ],
   "source": [
    "df.loan_status.unique()"
   ]
  },
  {
   "cell_type": "code",
   "execution_count": 36,
   "metadata": {},
   "outputs": [],
   "source": [
    "df = df[df.loan_status != 'Current']"
   ]
  },
  {
   "cell_type": "code",
   "execution_count": 37,
   "metadata": {},
   "outputs": [
    {
     "name": "stderr",
     "output_type": "stream",
     "text": [
      "C:\\Users\\akhil\\AppData\\Local\\Temp/ipykernel_3916/4271772864.py:3: SettingWithCopyWarning: \n",
      "A value is trying to be set on a copy of a slice from a DataFrame.\n",
      "Try using .loc[row_indexer,col_indexer] = value instead\n",
      "\n",
      "See the caveats in the documentation: https://pandas.pydata.org/pandas-docs/stable/user_guide/indexing.html#returning-a-view-versus-a-copy\n",
      "  df['loan_status']=df['loan_status'].map(laonstatus)\n"
     ]
    }
   ],
   "source": [
    "### convert categorical variable to numerical variable\n",
    "laonstatus = {'Fully Paid':0,'Charged Off':1}\n",
    "df['loan_status']=df['loan_status'].map(laonstatus)"
   ]
  },
  {
   "cell_type": "code",
   "execution_count": 38,
   "metadata": {},
   "outputs": [
    {
     "data": {
      "text/plain": [
       "loan_status\n",
       "0    32950\n",
       "1     5627\n",
       "Name: count, dtype: int64"
      ]
     },
     "execution_count": 38,
     "metadata": {},
     "output_type": "execute_result"
    }
   ],
   "source": [
    "df['loan_status'].value_counts()"
   ]
  },
  {
   "cell_type": "code",
   "execution_count": 39,
   "metadata": {},
   "outputs": [
    {
     "data": {
      "text/plain": [
       "loan_amnt              0.000000\n",
       "funded_amnt            0.000000\n",
       "funded_amnt_inv        0.000000\n",
       "term                   0.000000\n",
       "int_rate               0.000000\n",
       "installment            0.000000\n",
       "grade                  0.000000\n",
       "sub_grade              0.000000\n",
       "emp_length             2.677761\n",
       "home_ownership         0.000000\n",
       "annual_inc             0.000000\n",
       "verification_status    0.000000\n",
       "issue_d                0.000000\n",
       "loan_status            0.000000\n",
       "purpose                0.000000\n",
       "dti                    0.000000\n",
       "delinq_2yrs            0.000000\n",
       "earliest_cr_line       0.000000\n",
       "inq_last_6mths         0.000000\n",
       "open_acc               0.000000\n",
       "pub_rec                0.000000\n",
       "revol_bal              0.000000\n",
       "revol_util             0.129611\n",
       "total_acc              0.000000\n",
       "initial_list_status    0.000000\n",
       "out_prncp              0.000000\n",
       "out_prncp_inv          0.000000\n",
       "total_pymnt            0.000000\n",
       "total_pymnt_inv        0.000000\n",
       "total_rec_prncp        0.000000\n",
       "last_pymnt_d           0.184047\n",
       "last_pymnt_amnt        0.000000\n",
       "last_credit_pull_d     0.005184\n",
       "policy_code            0.000000\n",
       "application_type       0.000000\n",
       "acc_now_delinq         0.000000\n",
       "delinq_amnt            0.000000\n",
       "dtype: float64"
      ]
     },
     "execution_count": 39,
     "metadata": {},
     "output_type": "execute_result"
    }
   ],
   "source": [
    "(df.isna().sum()/len(df.index))*100"
   ]
  },
  {
   "cell_type": "code",
   "execution_count": 40,
   "metadata": {},
   "outputs": [
    {
     "name": "stderr",
     "output_type": "stream",
     "text": [
      "C:\\Users\\akhil\\AppData\\Local\\Temp/ipykernel_3916/402250431.py:1: SettingWithCopyWarning: \n",
      "A value is trying to be set on a copy of a slice from a DataFrame\n",
      "\n",
      "See the caveats in the documentation: https://pandas.pydata.org/pandas-docs/stable/user_guide/indexing.html#returning-a-view-versus-a-copy\n",
      "  df.emp_length.fillna(df.emp_length.mode()[0], inplace = True)\n"
     ]
    },
    {
     "data": {
      "text/plain": [
       "0"
      ]
     },
     "execution_count": 40,
     "metadata": {},
     "output_type": "execute_result"
    }
   ],
   "source": [
    "df.emp_length.fillna(df.emp_length.mode()[0], inplace = True)\n",
    "df.emp_length.isna().sum()"
   ]
  },
  {
   "cell_type": "code",
   "execution_count": 41,
   "metadata": {},
   "outputs": [
    {
     "name": "stderr",
     "output_type": "stream",
     "text": [
      "C:\\Users\\akhil\\AppData\\Local\\Temp/ipykernel_3916/3238308387.py:1: SettingWithCopyWarning: \n",
      "A value is trying to be set on a copy of a slice from a DataFrame\n",
      "\n",
      "See the caveats in the documentation: https://pandas.pydata.org/pandas-docs/stable/user_guide/indexing.html#returning-a-view-versus-a-copy\n",
      "  df.dropna(axis = 0, subset = ['revol_util'] , inplace = True)\n"
     ]
    },
    {
     "data": {
      "text/plain": [
       "0"
      ]
     },
     "execution_count": 41,
     "metadata": {},
     "output_type": "execute_result"
    }
   ],
   "source": [
    "df.dropna(axis = 0, subset = ['revol_util'] , inplace = True)\n",
    "df.revol_util.isna().sum()"
   ]
  },
  {
   "cell_type": "code",
   "execution_count": 42,
   "metadata": {},
   "outputs": [
    {
     "name": "stderr",
     "output_type": "stream",
     "text": [
      "C:\\Users\\akhil\\AppData\\Local\\Temp/ipykernel_3916/2162309543.py:1: SettingWithCopyWarning: \n",
      "A value is trying to be set on a copy of a slice from a DataFrame.\n",
      "Try using .loc[row_indexer,col_indexer] = value instead\n",
      "\n",
      "See the caveats in the documentation: https://pandas.pydata.org/pandas-docs/stable/user_guide/indexing.html#returning-a-view-versus-a-copy\n",
      "  df.revol_util = pd.to_numeric(df.revol_util.apply(lambda x : x.split('%')[0]))\n",
      "C:\\Users\\akhil\\AppData\\Local\\Temp/ipykernel_3916/2162309543.py:2: SettingWithCopyWarning: \n",
      "A value is trying to be set on a copy of a slice from a DataFrame.\n",
      "Try using .loc[row_indexer,col_indexer] = value instead\n",
      "\n",
      "See the caveats in the documentation: https://pandas.pydata.org/pandas-docs/stable/user_guide/indexing.html#returning-a-view-versus-a-copy\n",
      "  df.int_rate = pd.to_numeric(df.int_rate.apply(lambda x : x.split('%')[0]))\n",
      "C:\\Users\\akhil\\AppData\\Local\\Temp/ipykernel_3916/2162309543.py:3: SettingWithCopyWarning: \n",
      "A value is trying to be set on a copy of a slice from a DataFrame.\n",
      "Try using .loc[row_indexer,col_indexer] = value instead\n",
      "\n",
      "See the caveats in the documentation: https://pandas.pydata.org/pandas-docs/stable/user_guide/indexing.html#returning-a-view-versus-a-copy\n",
      "  df.emp_length = pd.to_numeric(df.emp_length.apply(lambda x: 0 if \"<\" in x else (x.split('+')[0] if \"+\" in x else x.split()[0])))\n"
     ]
    },
    {
     "data": {
      "text/html": [
       "<div>\n",
       "<style scoped>\n",
       "    .dataframe tbody tr th:only-of-type {\n",
       "        vertical-align: middle;\n",
       "    }\n",
       "\n",
       "    .dataframe tbody tr th {\n",
       "        vertical-align: top;\n",
       "    }\n",
       "\n",
       "    .dataframe thead th {\n",
       "        text-align: right;\n",
       "    }\n",
       "</style>\n",
       "<table border=\"1\" class=\"dataframe\">\n",
       "  <thead>\n",
       "    <tr style=\"text-align: right;\">\n",
       "      <th></th>\n",
       "      <th>loan_amnt</th>\n",
       "      <th>funded_amnt</th>\n",
       "      <th>funded_amnt_inv</th>\n",
       "      <th>term</th>\n",
       "      <th>int_rate</th>\n",
       "      <th>installment</th>\n",
       "      <th>grade</th>\n",
       "      <th>sub_grade</th>\n",
       "      <th>emp_length</th>\n",
       "      <th>home_ownership</th>\n",
       "      <th>...</th>\n",
       "      <th>total_pymnt</th>\n",
       "      <th>total_pymnt_inv</th>\n",
       "      <th>total_rec_prncp</th>\n",
       "      <th>last_pymnt_d</th>\n",
       "      <th>last_pymnt_amnt</th>\n",
       "      <th>last_credit_pull_d</th>\n",
       "      <th>policy_code</th>\n",
       "      <th>application_type</th>\n",
       "      <th>acc_now_delinq</th>\n",
       "      <th>delinq_amnt</th>\n",
       "    </tr>\n",
       "  </thead>\n",
       "  <tbody>\n",
       "    <tr>\n",
       "      <th>0</th>\n",
       "      <td>5000</td>\n",
       "      <td>5000</td>\n",
       "      <td>4975.0</td>\n",
       "      <td>36 months</td>\n",
       "      <td>10.65</td>\n",
       "      <td>162.87</td>\n",
       "      <td>B</td>\n",
       "      <td>B2</td>\n",
       "      <td>10</td>\n",
       "      <td>RENT</td>\n",
       "      <td>...</td>\n",
       "      <td>5863.155187</td>\n",
       "      <td>5833.84</td>\n",
       "      <td>5000.00</td>\n",
       "      <td>Jan-15</td>\n",
       "      <td>171.62</td>\n",
       "      <td>May-16</td>\n",
       "      <td>1</td>\n",
       "      <td>INDIVIDUAL</td>\n",
       "      <td>0</td>\n",
       "      <td>0</td>\n",
       "    </tr>\n",
       "    <tr>\n",
       "      <th>1</th>\n",
       "      <td>2500</td>\n",
       "      <td>2500</td>\n",
       "      <td>2500.0</td>\n",
       "      <td>60 months</td>\n",
       "      <td>15.27</td>\n",
       "      <td>59.83</td>\n",
       "      <td>C</td>\n",
       "      <td>C4</td>\n",
       "      <td>0</td>\n",
       "      <td>RENT</td>\n",
       "      <td>...</td>\n",
       "      <td>1008.710000</td>\n",
       "      <td>1008.71</td>\n",
       "      <td>456.46</td>\n",
       "      <td>Apr-13</td>\n",
       "      <td>119.66</td>\n",
       "      <td>Sep-13</td>\n",
       "      <td>1</td>\n",
       "      <td>INDIVIDUAL</td>\n",
       "      <td>0</td>\n",
       "      <td>0</td>\n",
       "    </tr>\n",
       "    <tr>\n",
       "      <th>2</th>\n",
       "      <td>2400</td>\n",
       "      <td>2400</td>\n",
       "      <td>2400.0</td>\n",
       "      <td>36 months</td>\n",
       "      <td>15.96</td>\n",
       "      <td>84.33</td>\n",
       "      <td>C</td>\n",
       "      <td>C5</td>\n",
       "      <td>10</td>\n",
       "      <td>RENT</td>\n",
       "      <td>...</td>\n",
       "      <td>3005.666844</td>\n",
       "      <td>3005.67</td>\n",
       "      <td>2400.00</td>\n",
       "      <td>Jun-14</td>\n",
       "      <td>649.91</td>\n",
       "      <td>May-16</td>\n",
       "      <td>1</td>\n",
       "      <td>INDIVIDUAL</td>\n",
       "      <td>0</td>\n",
       "      <td>0</td>\n",
       "    </tr>\n",
       "    <tr>\n",
       "      <th>3</th>\n",
       "      <td>10000</td>\n",
       "      <td>10000</td>\n",
       "      <td>10000.0</td>\n",
       "      <td>36 months</td>\n",
       "      <td>13.49</td>\n",
       "      <td>339.31</td>\n",
       "      <td>C</td>\n",
       "      <td>C1</td>\n",
       "      <td>10</td>\n",
       "      <td>RENT</td>\n",
       "      <td>...</td>\n",
       "      <td>12231.890000</td>\n",
       "      <td>12231.89</td>\n",
       "      <td>10000.00</td>\n",
       "      <td>Jan-15</td>\n",
       "      <td>357.48</td>\n",
       "      <td>Apr-16</td>\n",
       "      <td>1</td>\n",
       "      <td>INDIVIDUAL</td>\n",
       "      <td>0</td>\n",
       "      <td>0</td>\n",
       "    </tr>\n",
       "    <tr>\n",
       "      <th>5</th>\n",
       "      <td>5000</td>\n",
       "      <td>5000</td>\n",
       "      <td>5000.0</td>\n",
       "      <td>36 months</td>\n",
       "      <td>7.90</td>\n",
       "      <td>156.46</td>\n",
       "      <td>A</td>\n",
       "      <td>A4</td>\n",
       "      <td>3</td>\n",
       "      <td>RENT</td>\n",
       "      <td>...</td>\n",
       "      <td>5632.210000</td>\n",
       "      <td>5632.21</td>\n",
       "      <td>5000.00</td>\n",
       "      <td>Jan-15</td>\n",
       "      <td>161.03</td>\n",
       "      <td>Jan-16</td>\n",
       "      <td>1</td>\n",
       "      <td>INDIVIDUAL</td>\n",
       "      <td>0</td>\n",
       "      <td>0</td>\n",
       "    </tr>\n",
       "  </tbody>\n",
       "</table>\n",
       "<p>5 rows × 37 columns</p>\n",
       "</div>"
      ],
      "text/plain": [
       "   loan_amnt  funded_amnt  funded_amnt_inv        term  int_rate  installment   \n",
       "0       5000         5000           4975.0   36 months     10.65       162.87  \\\n",
       "1       2500         2500           2500.0   60 months     15.27        59.83   \n",
       "2       2400         2400           2400.0   36 months     15.96        84.33   \n",
       "3      10000        10000          10000.0   36 months     13.49       339.31   \n",
       "5       5000         5000           5000.0   36 months      7.90       156.46   \n",
       "\n",
       "  grade sub_grade  emp_length home_ownership  ...   total_pymnt   \n",
       "0     B        B2          10           RENT  ...   5863.155187  \\\n",
       "1     C        C4           0           RENT  ...   1008.710000   \n",
       "2     C        C5          10           RENT  ...   3005.666844   \n",
       "3     C        C1          10           RENT  ...  12231.890000   \n",
       "5     A        A4           3           RENT  ...   5632.210000   \n",
       "\n",
       "  total_pymnt_inv total_rec_prncp  last_pymnt_d last_pymnt_amnt   \n",
       "0         5833.84         5000.00        Jan-15          171.62  \\\n",
       "1         1008.71          456.46        Apr-13          119.66   \n",
       "2         3005.67         2400.00        Jun-14          649.91   \n",
       "3        12231.89        10000.00        Jan-15          357.48   \n",
       "5         5632.21         5000.00        Jan-15          161.03   \n",
       "\n",
       "   last_credit_pull_d  policy_code application_type  acc_now_delinq   \n",
       "0              May-16            1       INDIVIDUAL               0  \\\n",
       "1              Sep-13            1       INDIVIDUAL               0   \n",
       "2              May-16            1       INDIVIDUAL               0   \n",
       "3              Apr-16            1       INDIVIDUAL               0   \n",
       "5              Jan-16            1       INDIVIDUAL               0   \n",
       "\n",
       "   delinq_amnt  \n",
       "0            0  \n",
       "1            0  \n",
       "2            0  \n",
       "3            0  \n",
       "5            0  \n",
       "\n",
       "[5 rows x 37 columns]"
      ]
     },
     "execution_count": 42,
     "metadata": {},
     "output_type": "execute_result"
    }
   ],
   "source": [
    "df.revol_util = pd.to_numeric(df.revol_util.apply(lambda x : x.split('%')[0]))\n",
    "df.int_rate = pd.to_numeric(df.int_rate.apply(lambda x : x.split('%')[0]))\n",
    "df.emp_length = pd.to_numeric(df.emp_length.apply(lambda x: 0 if \"<\" in x else (x.split('+')[0] if \"+\" in x else x.split()[0])))\n",
    "df.head()"
   ]
  },
  {
   "cell_type": "code",
   "execution_count": 43,
   "metadata": {},
   "outputs": [
    {
     "data": {
      "text/plain": [
       "{'whiskers': [<matplotlib.lines.Line2D at 0x1bfe29e1eb0>,\n",
       "  <matplotlib.lines.Line2D at 0x1bfe2b1f190>],\n",
       " 'caps': [<matplotlib.lines.Line2D at 0x1bfe2b1f430>,\n",
       "  <matplotlib.lines.Line2D at 0x1bfe2b1f6d0>],\n",
       " 'boxes': [<matplotlib.lines.Line2D at 0x1bfe29e1c10>],\n",
       " 'medians': [<matplotlib.lines.Line2D at 0x1bfe2b1f970>],\n",
       " 'fliers': [<matplotlib.lines.Line2D at 0x1bfe2b1fc40>],\n",
       " 'means': []}"
      ]
     },
     "execution_count": 43,
     "metadata": {},
     "output_type": "execute_result"
    },
    {
     "data": {
      "image/png": "[encoded data removed]",
      "text/plain": [
       "<Figure size 432x288 with 1 Axes>"
      ]
     },
     "metadata": {
      "needs_background": "light"
     },
     "output_type": "display_data"
    }
   ],
   "source": [
    "plot.boxplot(df.annual_inc)"
   ]
  },
  {
   "cell_type": "code",
   "execution_count": 44,
   "metadata": {},
   "outputs": [
    {
     "data": {
      "text/plain": [
       "0.50     59000.0\n",
       "0.75     82000.0\n",
       "0.90    115000.0\n",
       "0.95    140004.0\n",
       "0.97    165000.0\n",
       "0.98    187000.0\n",
       "0.99    234000.0\n",
       "Name: annual_inc, dtype: float64"
      ]
     },
     "execution_count": 44,
     "metadata": {},
     "output_type": "execute_result"
    }
   ],
   "source": [
    "quantile = df.annual_inc.quantile([0.5, 0.75,0.90, 0.95, 0.97,0.98, 0.99])\n",
    "quantile"
   ]
  },
  {
   "cell_type": "code",
   "execution_count": 45,
   "metadata": {},
   "outputs": [],
   "source": [
    "#only considering quantile values which are less 0.95\n",
    "value_quant_at_95 = df.annual_inc.quantile(0.95)\n",
    "df = df[df.annual_inc <= value_quant_at_95]"
   ]
  },
  {
   "cell_type": "code",
   "execution_count": 19,
   "metadata": {},
   "outputs": [
    {
     "data": {
      "text/plain": [
       "{'whiskers': [<matplotlib.lines.Line2D at 0x7fe3b96d8d30>,\n",
       "  <matplotlib.lines.Line2D at 0x7fe3b96e9040>],\n",
       " 'caps': [<matplotlib.lines.Line2D at 0x7fe3b96e9310>,\n",
       "  <matplotlib.lines.Line2D at 0x7fe3b96e95e0>],\n",
       " 'boxes': [<matplotlib.lines.Line2D at 0x7fe3b96d8a60>],\n",
       " 'medians': [<matplotlib.lines.Line2D at 0x7fe3b96e98b0>],\n",
       " 'fliers': [<matplotlib.lines.Line2D at 0x7fe3b96e9b80>],\n",
       " 'means': []}"
      ]
     },
     "execution_count": 19,
     "metadata": {},
     "output_type": "execute_result"
    },
    {
     "data": {
      "image/png": "[encoded data removed]",
      "text/plain": [
       "<Figure size 640x480 with 1 Axes>"
      ]
     },
     "metadata": {},
     "output_type": "display_data"
    }
   ],
   "source": [
    "plot.boxplot(df.annual_inc)"
   ]
  },
  {
   "cell_type": "markdown",
   "metadata": {},
   "source": [
    "<h1>Checking all the other possible outliers</h1>"
   ]
  },
  {
   "cell_type": "code",
   "execution_count": 46,
   "metadata": {},
   "outputs": [
    {
     "data": {
      "text/plain": [
       "{'whiskers': [<matplotlib.lines.Line2D at 0x1bfe2c27340>,\n",
       "  <matplotlib.lines.Line2D at 0x1bfe2c275e0>],\n",
       " 'caps': [<matplotlib.lines.Line2D at 0x1bfe2c27880>,\n",
       "  <matplotlib.lines.Line2D at 0x1bfe2c27b20>],\n",
       " 'boxes': [<matplotlib.lines.Line2D at 0x1bfe2c270a0>],\n",
       " 'medians': [<matplotlib.lines.Line2D at 0x1bfe2c27dc0>],\n",
       " 'fliers': [<matplotlib.lines.Line2D at 0x1bfe2a010a0>],\n",
       " 'means': []}"
      ]
     },
     "execution_count": 46,
     "metadata": {},
     "output_type": "execute_result"
    },
    {
     "data": {
      "image/png": "[encoded data removed]",
      "text/plain": [
       "<Figure size 432x288 with 1 Axes>"
      ]
     },
     "metadata": {
      "needs_background": "light"
     },
     "output_type": "display_data"
    }
   ],
   "source": [
    "plot.boxplot(df.dti)"
   ]
  },
  {
   "cell_type": "code",
   "execution_count": 47,
   "metadata": {},
   "outputs": [
    {
     "data": {
      "text/plain": [
       "{'whiskers': [<matplotlib.lines.Line2D at 0x1bfe2a68070>,\n",
       "  <matplotlib.lines.Line2D at 0x1bfe2a68310>],\n",
       " 'caps': [<matplotlib.lines.Line2D at 0x1bfe2a685b0>,\n",
       "  <matplotlib.lines.Line2D at 0x1bfe2a68850>],\n",
       " 'boxes': [<matplotlib.lines.Line2D at 0x1bfe2a59d90>],\n",
       " 'medians': [<matplotlib.lines.Line2D at 0x1bfe2a68af0>],\n",
       " 'fliers': [<matplotlib.lines.Line2D at 0x1bfe2a68d90>],\n",
       " 'means': []}"
      ]
     },
     "execution_count": 47,
     "metadata": {},
     "output_type": "execute_result"
    },
    {
     "data": {
      "image/png": "[encoded data removed]",
      "text/plain": [
       "<Figure size 432x288 with 1 Axes>"
      ]
     },
     "metadata": {
      "needs_background": "light"
     },
     "output_type": "display_data"
    }
   ],
   "source": [
    "plot.boxplot(df.loan_amnt)"
   ]
  },
  {
   "cell_type": "code",
   "execution_count": 48,
   "metadata": {},
   "outputs": [
    {
     "data": {
      "text/plain": [
       "{'whiskers': [<matplotlib.lines.Line2D at 0x1bfe2ad0e20>,\n",
       "  <matplotlib.lines.Line2D at 0x1bfe2ae1100>],\n",
       " 'caps': [<matplotlib.lines.Line2D at 0x1bfe2ae13a0>,\n",
       "  <matplotlib.lines.Line2D at 0x1bfe2ae1640>],\n",
       " 'boxes': [<matplotlib.lines.Line2D at 0x1bfe2ad0be0>],\n",
       " 'medians': [<matplotlib.lines.Line2D at 0x1bfe2ae18e0>],\n",
       " 'fliers': [<matplotlib.lines.Line2D at 0x1bfe2ae1b80>],\n",
       " 'means': []}"
      ]
     },
     "execution_count": 48,
     "metadata": {},
     "output_type": "execute_result"
    },
    {
     "data": {
      "image/png": "[encoded data removed]",
      "text/plain": [
       "<Figure size 432x288 with 1 Axes>"
      ]
     },
     "metadata": {
      "needs_background": "light"
     },
     "output_type": "display_data"
    }
   ],
   "source": [
    "plot.boxplot(df.funded_amnt_inv)"
   ]
  },
  {
   "cell_type": "markdown",
   "metadata": {},
   "source": [
    "<h2>Visualzing Categorically</h2>"
   ]
  },
  {
   "cell_type": "code",
   "execution_count": 49,
   "metadata": {},
   "outputs": [
    {
     "data": {
      "text/plain": [
       "<Axes: xlabel='loan_status', ylabel='count'>"
      ]
     },
     "execution_count": 49,
     "metadata": {},
     "output_type": "execute_result"
    },
    {
     "data": {
      "image/png": "[encoded data removed]",
      "text/plain": [
       "<Figure size 432x288 with 1 Axes>"
      ]
     },
     "metadata": {
      "needs_background": "light"
     },
     "output_type": "display_data"
    }
   ],
   "source": [
    "sns.countplot(x = 'loan_status', data=df)"
   ]
  },
  {
   "cell_type": "code",
   "execution_count": 24,
   "metadata": {},
   "outputs": [
    {
     "name": "stdout",
     "output_type": "stream",
     "text": [
      "['RENT' 'OWN' 'MORTGAGE' 'OTHER']\n"
     ]
    }
   ],
   "source": [
    "df.home_ownership.replace(to_replace = ['NONE'],value='OTHER',inplace = True)\n",
    "print(df.home_ownership.unique())"
   ]
  },
  {
   "cell_type": "code",
   "execution_count": 52,
   "metadata": {},
   "outputs": [
    {
     "data": {
      "text/plain": [
       "<Axes: xlabel='home_ownership', ylabel='count'>"
      ]
     },
     "execution_count": 52,
     "metadata": {},
     "output_type": "execute_result"
    },
    {
     "data": {
      "image/png": "[encoded data removed]",
      "text/plain": [
       "<Figure size 432x288 with 1 Axes>"
      ]
     },
     "metadata": {
      "needs_background": "light"
     },
     "output_type": "display_data"
    }
   ],
   "source": [
    "sns.countplot(x='home_ownership', data=df[df.loan_status==1])\n"
   ]
  },
  {
   "cell_type": "code",
   "execution_count": 54,
   "metadata": {},
   "outputs": [
    {
     "data": {
      "text/plain": [
       "<Axes: xlabel='emp_length', ylabel='count'>"
      ]
     },
     "execution_count": 54,
     "metadata": {},
     "output_type": "execute_result"
    },
    {
     "data": {
      "image/png": "[encoded data removed]",
      "text/plain": [
       "<Figure size 432x288 with 1 Axes>"
      ]
     },
     "metadata": {
      "needs_background": "light"
     },
     "output_type": "display_data"
    }
   ],
   "source": [
    "sns.countplot(x='emp_length', data=df[df.loan_status==1])\n"
   ]
  },
  {
   "cell_type": "code",
   "execution_count": 55,
   "metadata": {},
   "outputs": [
    {
     "data": {
      "text/plain": [
       "Index(['loan_amnt', 'funded_amnt', 'funded_amnt_inv', 'term', 'int_rate',\n",
       "       'installment', 'grade', 'sub_grade', 'emp_length', 'home_ownership',\n",
       "       'annual_inc', 'verification_status', 'issue_d', 'loan_status',\n",
       "       'purpose', 'dti', 'delinq_2yrs', 'earliest_cr_line', 'inq_last_6mths',\n",
       "       'open_acc', 'pub_rec', 'revol_bal', 'revol_util', 'total_acc',\n",
       "       'initial_list_status', 'out_prncp', 'out_prncp_inv', 'total_pymnt',\n",
       "       'total_pymnt_inv', 'total_rec_prncp', 'last_pymnt_d', 'last_pymnt_amnt',\n",
       "       'last_credit_pull_d', 'policy_code', 'application_type',\n",
       "       'acc_now_delinq', 'delinq_amnt'],\n",
       "      dtype='object')"
      ]
     },
     "execution_count": 55,
     "metadata": {},
     "output_type": "execute_result"
    }
   ],
   "source": [
    "df.columns"
   ]
  },
  {
   "cell_type": "code",
   "execution_count": 56,
   "metadata": {},
   "outputs": [
    {
     "data": {
      "text/plain": [
       "<Axes: xlabel='purpose'>"
      ]
     },
     "execution_count": 56,
     "metadata": {},
     "output_type": "execute_result"
    },
    {
     "data": {
      "image/png": "[encoded data removed]",
      "text/plain": [
       "<Figure size 864x576 with 1 Axes>"
      ]
     },
     "metadata": {
      "needs_background": "light"
     },
     "output_type": "display_data"
    }
   ],
   "source": [
    "fig, ax = plot.subplots(figsize = (12,8))\n",
    "df.purpose.value_counts().plot(kind = 'bar', ax = ax)"
   ]
  },
  {
   "cell_type": "code",
   "execution_count": 57,
   "metadata": {},
   "outputs": [
    {
     "data": {
      "text/plain": [
       "<Axes: xlabel='verification_status', ylabel='count'>"
      ]
     },
     "execution_count": 57,
     "metadata": {},
     "output_type": "execute_result"
    },
    {
     "data": {
      "image/png": "[encoded data removed]",
      "text/plain": [
       "<Figure size 432x288 with 1 Axes>"
      ]
     },
     "metadata": {
      "needs_background": "light"
     },
     "output_type": "display_data"
    }
   ],
   "source": [
    "sns.countplot(x = 'verification_status', data=df[df.loan_status == 1])"
   ]
  },
  {
   "cell_type": "code",
   "execution_count": 58,
   "metadata": {},
   "outputs": [
    {
     "data": {
      "text/plain": [
       "<Axes: xlabel='term'>"
      ]
     },
     "execution_count": 58,
     "metadata": {},
     "output_type": "execute_result"
    },
    {
     "data": {
      "image/png": "[encoded data removed]",
      "text/plain": [
       "<Figure size 432x288 with 1 Axes>"
      ]
     },
     "metadata": {
      "needs_background": "light"
     },
     "output_type": "display_data"
    }
   ],
   "source": [
    "(df.term.value_counts()/len(df)).plot.bar()"
   ]
  },
  {
   "cell_type": "code",
   "execution_count": 33,
   "metadata": {},
   "outputs": [
    {
     "data": {
      "text/plain": [
       "(array([ 690., 1688., 2430., 2458., 3314., 3003., 2420., 2515., 2116.,\n",
       "        2707., 1953., 1818., 1238., 1069., 1275., 1098.,  703.,  571.,\n",
       "         508.,  488.,  577.,  281.,  183.,  219.,  346.,  257.,  260.,\n",
       "         122.,   81.,   46.,   24.,   12.,   22.,   42.,   17.,   14.,\n",
       "          10.,   12.,   15.,    4.]),\n",
       " array([  15.69  ,   47.9275,   80.165 ,  112.4025,  144.64  ,  176.8775,\n",
       "         209.115 ,  241.3525,  273.59  ,  305.8275,  338.065 ,  370.3025,\n",
       "         402.54  ,  434.7775,  467.015 ,  499.2525,  531.49  ,  563.7275,\n",
       "         595.965 ,  628.2025,  660.44  ,  692.6775,  724.915 ,  757.1525,\n",
       "         789.39  ,  821.6275,  853.865 ,  886.1025,  918.34  ,  950.5775,\n",
       "         982.815 , 1015.0525, 1047.29  , 1079.5275, 1111.765 , 1144.0025,\n",
       "        1176.24  , 1208.4775, 1240.715 , 1272.9525, 1305.19  ]),\n",
       " <BarContainer object of 40 artists>)"
      ]
     },
     "execution_count": 33,
     "metadata": {},
     "output_type": "execute_result"
    },
    {
     "data": {
      "image/png": "[encoded data removed]",
      "text/plain": [
       "<Figure size 640x480 with 1 Axes>"
      ]
     },
     "metadata": {},
     "output_type": "display_data"
    }
   ],
   "source": [
    "plot.hist(df.installment, bins=40)"
   ]
  },
  {
   "cell_type": "markdown",
   "metadata": {},
   "source": [
    "## Derived columns"
   ]
  },
  {
   "cell_type": "code",
   "execution_count": 59,
   "metadata": {},
   "outputs": [],
   "source": [
    "df.last_pymnt_d= pd.to_datetime(df.last_pymnt_d,format='%b-%y')\n",
    "df.last_credit_pull_d= pd.to_datetime(df.last_credit_pull_d,format='%b-%y')\n",
    "df.issue_d= pd.to_datetime(df.issue_d,format='%b-%y')"
   ]
  },
  {
   "cell_type": "code",
   "execution_count": 65,
   "metadata": {},
   "outputs": [],
   "source": [
    "# Adding new features by getting month and year from issue_d,last_pymnt_d and last_credit_pull_d columns\n",
    "df['issue_d_year'] = pd.DatetimeIndex(df['issue_d']).year  \n",
    "df['issue_d_month'] = pd.DatetimeIndex(df['issue_d']).month \n",
    " "
   ]
  },
  {
   "cell_type": "code",
   "execution_count": 67,
   "metadata": {},
   "outputs": [
    {
     "data": {
      "text/html": [
       "<div>\n",
       "<style scoped>\n",
       "    .dataframe tbody tr th:only-of-type {\n",
       "        vertical-align: middle;\n",
       "    }\n",
       "\n",
       "    .dataframe tbody tr th {\n",
       "        vertical-align: top;\n",
       "    }\n",
       "\n",
       "    .dataframe thead th {\n",
       "        text-align: right;\n",
       "    }\n",
       "</style>\n",
       "<table border=\"1\" class=\"dataframe\">\n",
       "  <thead>\n",
       "    <tr style=\"text-align: right;\">\n",
       "      <th></th>\n",
       "      <th>issue_d_year</th>\n",
       "      <th>issue_d_month</th>\n",
       "    </tr>\n",
       "  </thead>\n",
       "  <tbody>\n",
       "    <tr>\n",
       "      <th>0</th>\n",
       "      <td>2011</td>\n",
       "      <td>12</td>\n",
       "    </tr>\n",
       "    <tr>\n",
       "      <th>1</th>\n",
       "      <td>2011</td>\n",
       "      <td>12</td>\n",
       "    </tr>\n",
       "    <tr>\n",
       "      <th>2</th>\n",
       "      <td>2011</td>\n",
       "      <td>12</td>\n",
       "    </tr>\n",
       "    <tr>\n",
       "      <th>3</th>\n",
       "      <td>2011</td>\n",
       "      <td>12</td>\n",
       "    </tr>\n",
       "    <tr>\n",
       "      <th>5</th>\n",
       "      <td>2011</td>\n",
       "      <td>12</td>\n",
       "    </tr>\n",
       "  </tbody>\n",
       "</table>\n",
       "</div>"
      ],
      "text/plain": [
       "   issue_d_year  issue_d_month\n",
       "0          2011             12\n",
       "1          2011             12\n",
       "2          2011             12\n",
       "3          2011             12\n",
       "5          2011             12"
      ]
     },
     "execution_count": 67,
     "metadata": {},
     "output_type": "execute_result"
    }
   ],
   "source": [
    "df[['issue_d_year','issue_d_month']].head()"
   ]
  },
  {
   "cell_type": "markdown",
   "metadata": {},
   "source": [
    "## Split categorical and numerical columns"
   ]
  },
  {
   "cell_type": "code",
   "execution_count": 68,
   "metadata": {},
   "outputs": [
    {
     "data": {
      "text/plain": [
       "Index(['loan_amnt', 'funded_amnt', 'funded_amnt_inv', 'term', 'int_rate',\n",
       "       'installment', 'grade', 'sub_grade', 'emp_length', 'home_ownership',\n",
       "       'annual_inc', 'verification_status', 'issue_d', 'loan_status',\n",
       "       'purpose', 'dti', 'delinq_2yrs', 'earliest_cr_line', 'inq_last_6mths',\n",
       "       'open_acc', 'pub_rec', 'revol_bal', 'revol_util', 'total_acc',\n",
       "       'initial_list_status', 'out_prncp', 'out_prncp_inv', 'total_pymnt',\n",
       "       'total_pymnt_inv', 'total_rec_prncp', 'last_pymnt_d', 'last_pymnt_amnt',\n",
       "       'last_credit_pull_d', 'policy_code', 'application_type',\n",
       "       'acc_now_delinq', 'delinq_amnt', 'issue_d_year', 'issue_d_month',\n",
       "       'last_pymnt_d_year', 'last_pymnt_d_month', 'last_credit_pull_d_year',\n",
       "       'last_credit_pull_d_month'],\n",
       "      dtype='object')"
      ]
     },
     "execution_count": 68,
     "metadata": {},
     "output_type": "execute_result"
    }
   ],
   "source": [
    "col = df.columns\n",
    "col"
   ]
  },
  {
   "cell_type": "code",
   "execution_count": 69,
   "metadata": {},
   "outputs": [],
   "source": [
    "col1= df.dtypes"
   ]
  },
  {
   "cell_type": "code",
   "execution_count": 70,
   "metadata": {},
   "outputs": [],
   "source": [
    "df_categorical = df[col[col1=='object']]"
   ]
  },
  {
   "cell_type": "code",
   "execution_count": 72,
   "metadata": {},
   "outputs": [
    {
     "data": {
      "text/html": [
       "<div>\n",
       "<style scoped>\n",
       "    .dataframe tbody tr th:only-of-type {\n",
       "        vertical-align: middle;\n",
       "    }\n",
       "\n",
       "    .dataframe tbody tr th {\n",
       "        vertical-align: top;\n",
       "    }\n",
       "\n",
       "    .dataframe thead th {\n",
       "        text-align: right;\n",
       "    }\n",
       "</style>\n",
       "<table border=\"1\" class=\"dataframe\">\n",
       "  <thead>\n",
       "    <tr style=\"text-align: right;\">\n",
       "      <th></th>\n",
       "      <th>term</th>\n",
       "      <th>grade</th>\n",
       "      <th>sub_grade</th>\n",
       "      <th>home_ownership</th>\n",
       "      <th>verification_status</th>\n",
       "      <th>purpose</th>\n",
       "      <th>earliest_cr_line</th>\n",
       "      <th>initial_list_status</th>\n",
       "      <th>application_type</th>\n",
       "    </tr>\n",
       "  </thead>\n",
       "  <tbody>\n",
       "    <tr>\n",
       "      <th>0</th>\n",
       "      <td>36 months</td>\n",
       "      <td>B</td>\n",
       "      <td>B2</td>\n",
       "      <td>RENT</td>\n",
       "      <td>Verified</td>\n",
       "      <td>credit_card</td>\n",
       "      <td>Jan-85</td>\n",
       "      <td>f</td>\n",
       "      <td>INDIVIDUAL</td>\n",
       "    </tr>\n",
       "    <tr>\n",
       "      <th>1</th>\n",
       "      <td>60 months</td>\n",
       "      <td>C</td>\n",
       "      <td>C4</td>\n",
       "      <td>RENT</td>\n",
       "      <td>Source Verified</td>\n",
       "      <td>car</td>\n",
       "      <td>Apr-99</td>\n",
       "      <td>f</td>\n",
       "      <td>INDIVIDUAL</td>\n",
       "    </tr>\n",
       "    <tr>\n",
       "      <th>2</th>\n",
       "      <td>36 months</td>\n",
       "      <td>C</td>\n",
       "      <td>C5</td>\n",
       "      <td>RENT</td>\n",
       "      <td>Not Verified</td>\n",
       "      <td>small_business</td>\n",
       "      <td>Nov-01</td>\n",
       "      <td>f</td>\n",
       "      <td>INDIVIDUAL</td>\n",
       "    </tr>\n",
       "    <tr>\n",
       "      <th>3</th>\n",
       "      <td>36 months</td>\n",
       "      <td>C</td>\n",
       "      <td>C1</td>\n",
       "      <td>RENT</td>\n",
       "      <td>Source Verified</td>\n",
       "      <td>other</td>\n",
       "      <td>Feb-96</td>\n",
       "      <td>f</td>\n",
       "      <td>INDIVIDUAL</td>\n",
       "    </tr>\n",
       "    <tr>\n",
       "      <th>5</th>\n",
       "      <td>36 months</td>\n",
       "      <td>A</td>\n",
       "      <td>A4</td>\n",
       "      <td>RENT</td>\n",
       "      <td>Source Verified</td>\n",
       "      <td>wedding</td>\n",
       "      <td>Nov-04</td>\n",
       "      <td>f</td>\n",
       "      <td>INDIVIDUAL</td>\n",
       "    </tr>\n",
       "  </tbody>\n",
       "</table>\n",
       "</div>"
      ],
      "text/plain": [
       "         term grade sub_grade home_ownership verification_status   \n",
       "0   36 months     B        B2           RENT            Verified  \\\n",
       "1   60 months     C        C4           RENT     Source Verified   \n",
       "2   36 months     C        C5           RENT        Not Verified   \n",
       "3   36 months     C        C1           RENT     Source Verified   \n",
       "5   36 months     A        A4           RENT     Source Verified   \n",
       "\n",
       "          purpose earliest_cr_line initial_list_status application_type  \n",
       "0     credit_card           Jan-85                   f       INDIVIDUAL  \n",
       "1             car           Apr-99                   f       INDIVIDUAL  \n",
       "2  small_business           Nov-01                   f       INDIVIDUAL  \n",
       "3           other           Feb-96                   f       INDIVIDUAL  \n",
       "5         wedding           Nov-04                   f       INDIVIDUAL  "
      ]
     },
     "execution_count": 72,
     "metadata": {},
     "output_type": "execute_result"
    }
   ],
   "source": [
    "df_categorical.head()"
   ]
  },
  {
   "cell_type": "code",
   "execution_count": 73,
   "metadata": {},
   "outputs": [],
   "source": [
    "df_numerical = df[col[col1!='object']]"
   ]
  },
  {
   "cell_type": "markdown",
   "metadata": {},
   "source": [
    "df_numerical.head()"
   ]
  },
  {
   "cell_type": "markdown",
   "metadata": {},
   "source": [
    "## Find correlation"
   ]
  },
  {
   "cell_type": "code",
   "execution_count": 85,
   "metadata": {},
   "outputs": [
    {
     "data": {
      "text/html": [
       "<div>\n",
       "<style scoped>\n",
       "    .dataframe tbody tr th:only-of-type {\n",
       "        vertical-align: middle;\n",
       "    }\n",
       "\n",
       "    .dataframe tbody tr th {\n",
       "        vertical-align: top;\n",
       "    }\n",
       "\n",
       "    .dataframe thead th {\n",
       "        text-align: right;\n",
       "    }\n",
       "</style>\n",
       "<table border=\"1\" class=\"dataframe\">\n",
       "  <thead>\n",
       "    <tr style=\"text-align: right;\">\n",
       "      <th></th>\n",
       "      <th>loan_amnt</th>\n",
       "      <th>funded_amnt</th>\n",
       "      <th>funded_amnt_inv</th>\n",
       "      <th>int_rate</th>\n",
       "      <th>emp_length</th>\n",
       "      <th>annual_inc</th>\n",
       "      <th>dti</th>\n",
       "      <th>total_pymnt</th>\n",
       "    </tr>\n",
       "  </thead>\n",
       "  <tbody>\n",
       "    <tr>\n",
       "      <th>loan_amnt</th>\n",
       "      <td>1.000000</td>\n",
       "      <td>0.981919</td>\n",
       "      <td>0.936941</td>\n",
       "      <td>0.292707</td>\n",
       "      <td>0.131205</td>\n",
       "      <td>0.402568</td>\n",
       "      <td>0.089848</td>\n",
       "      <td>0.876585</td>\n",
       "    </tr>\n",
       "    <tr>\n",
       "      <th>funded_amnt</th>\n",
       "      <td>0.981919</td>\n",
       "      <td>1.000000</td>\n",
       "      <td>0.954896</td>\n",
       "      <td>0.297700</td>\n",
       "      <td>0.130888</td>\n",
       "      <td>0.398396</td>\n",
       "      <td>0.089040</td>\n",
       "      <td>0.893251</td>\n",
       "    </tr>\n",
       "    <tr>\n",
       "      <th>funded_amnt_inv</th>\n",
       "      <td>0.936941</td>\n",
       "      <td>0.954896</td>\n",
       "      <td>1.000000</td>\n",
       "      <td>0.290425</td>\n",
       "      <td>0.144124</td>\n",
       "      <td>0.381785</td>\n",
       "      <td>0.096596</td>\n",
       "      <td>0.868727</td>\n",
       "    </tr>\n",
       "    <tr>\n",
       "      <th>int_rate</th>\n",
       "      <td>0.292707</td>\n",
       "      <td>0.297700</td>\n",
       "      <td>0.290425</td>\n",
       "      <td>1.000000</td>\n",
       "      <td>-0.013769</td>\n",
       "      <td>0.055497</td>\n",
       "      <td>0.112344</td>\n",
       "      <td>0.281607</td>\n",
       "    </tr>\n",
       "    <tr>\n",
       "      <th>emp_length</th>\n",
       "      <td>0.131205</td>\n",
       "      <td>0.130888</td>\n",
       "      <td>0.144124</td>\n",
       "      <td>-0.013769</td>\n",
       "      <td>1.000000</td>\n",
       "      <td>0.160473</td>\n",
       "      <td>0.052603</td>\n",
       "      <td>0.113357</td>\n",
       "    </tr>\n",
       "    <tr>\n",
       "      <th>annual_inc</th>\n",
       "      <td>0.402568</td>\n",
       "      <td>0.398396</td>\n",
       "      <td>0.381785</td>\n",
       "      <td>0.055497</td>\n",
       "      <td>0.160473</td>\n",
       "      <td>1.000000</td>\n",
       "      <td>-0.073368</td>\n",
       "      <td>0.381527</td>\n",
       "    </tr>\n",
       "    <tr>\n",
       "      <th>dti</th>\n",
       "      <td>0.089848</td>\n",
       "      <td>0.089040</td>\n",
       "      <td>0.096596</td>\n",
       "      <td>0.112344</td>\n",
       "      <td>0.052603</td>\n",
       "      <td>-0.073368</td>\n",
       "      <td>1.000000</td>\n",
       "      <td>0.085813</td>\n",
       "    </tr>\n",
       "    <tr>\n",
       "      <th>total_pymnt</th>\n",
       "      <td>0.876585</td>\n",
       "      <td>0.893251</td>\n",
       "      <td>0.868727</td>\n",
       "      <td>0.281607</td>\n",
       "      <td>0.113357</td>\n",
       "      <td>0.381527</td>\n",
       "      <td>0.085813</td>\n",
       "      <td>1.000000</td>\n",
       "    </tr>\n",
       "  </tbody>\n",
       "</table>\n",
       "</div>"
      ],
      "text/plain": [
       "                 loan_amnt  funded_amnt  funded_amnt_inv  int_rate   \n",
       "loan_amnt         1.000000     0.981919         0.936941  0.292707  \\\n",
       "funded_amnt       0.981919     1.000000         0.954896  0.297700   \n",
       "funded_amnt_inv   0.936941     0.954896         1.000000  0.290425   \n",
       "int_rate          0.292707     0.297700         0.290425  1.000000   \n",
       "emp_length        0.131205     0.130888         0.144124 -0.013769   \n",
       "annual_inc        0.402568     0.398396         0.381785  0.055497   \n",
       "dti               0.089848     0.089040         0.096596  0.112344   \n",
       "total_pymnt       0.876585     0.893251         0.868727  0.281607   \n",
       "\n",
       "                 emp_length  annual_inc       dti  total_pymnt  \n",
       "loan_amnt          0.131205    0.402568  0.089848     0.876585  \n",
       "funded_amnt        0.130888    0.398396  0.089040     0.893251  \n",
       "funded_amnt_inv    0.144124    0.381785  0.096596     0.868727  \n",
       "int_rate          -0.013769    0.055497  0.112344     0.281607  \n",
       "emp_length         1.000000    0.160473  0.052603     0.113357  \n",
       "annual_inc         0.160473    1.000000 -0.073368     0.381527  \n",
       "dti                0.052603   -0.073368  1.000000     0.085813  \n",
       "total_pymnt        0.113357    0.381527  0.085813     1.000000  "
      ]
     },
     "execution_count": 85,
     "metadata": {},
     "output_type": "execute_result"
    }
   ],
   "source": [
    "loan_correlation=df_numerical[['loan_amnt','funded_amnt','funded_amnt_inv','int_rate','emp_length','annual_inc','dti','total_pymnt']]\n",
    "loan_correlation.corr()"
   ]
  },
  {
   "cell_type": "code",
   "execution_count": 86,
   "metadata": {},
   "outputs": [
    {
     "data": {
      "image/png": "[encoded data removed]",
      "text/plain": [
       "<Figure size 864x720 with 2 Axes>"
      ]
     },
     "metadata": {},
     "output_type": "display_data"
    }
   ],
   "source": [
    "# correlation and using heatmap to visualise it.\n",
    "sns.set(rc={'figure.figsize':(12,10)})\n",
    "sns.set_style('whitegrid')\n",
    "# Heatmap\n",
    "sns.heatmap(loan_correlation.corr())\n",
    "plot.show()"
   ]
  },
  {
   "cell_type": "markdown",
   "metadata": {},
   "source": [
    "## Observations -\n",
    "\n",
    "Annual Income to dti Ratio are negatively correlated\n",
    "Loan Amount,Investor Amount and Funding Amount are strongly correlated\n",
    "Positive correlation between Annual Income and emp_lenght\n"
   ]
  },
  {
   "cell_type": "code",
   "execution_count": 80,
   "metadata": {},
   "outputs": [
    {
     "name": "stderr",
     "output_type": "stream",
     "text": [
      "C:\\Users\\akhil\\AppData\\Local\\Temp/ipykernel_3916/1980910889.py:7: UserWarning: \n",
      "\n",
      "`distplot` is a deprecated function and will be removed in seaborn v0.14.0.\n",
      "\n",
      "Please adapt your code to use either `displot` (a figure-level function with\n",
      "similar flexibility) or `histplot` (an axes-level function for histograms).\n",
      "\n",
      "For a guide to updating your code to use the new functions, please see\n",
      "https://gist.github.com/mwaskom/de44147ed2974457ad6372750bbe5751\n",
      "\n",
      "  ax=sns.distplot(df['loan_amnt'],rug=True)\n"
     ]
    },
    {
     "data": {
      "image/png": "[encoded data removed]",
      "text/plain": [
       "<Figure size 1080x576 with 2 Axes>"
      ]
     },
     "metadata": {},
     "output_type": "display_data"
    }
   ],
   "source": [
    "with plot.style.context('dark_background'):\n",
    "  plot.figure(figsize=(15,8),facecolor='b')\n",
    "  \n",
    "  #Subplot 1\n",
    "\n",
    "  plot.subplot(2,2,1)\n",
    "  ax=sns.distplot(df['loan_amnt'],rug=True)\n",
    "  ax.set(title='Loan Amount Distribution Plot')\n",
    "  ax.set_xlabel('Loan Amount', fontsize=10,color='w')\n",
    "\n",
    "  #Subplot 2\n",
    "  sns.set_style(\"dark\")\n",
    "\n",
    "  plot.subplot(2,2,2)\n",
    "  ax=sns.boxplot(y=df['loan_amnt'])\n",
    "  ax.set_ylabel('Loan Amount', fontsize=10,color='w')\n",
    "  plot.show()"
   ]
  },
  {
   "cell_type": "markdown",
   "metadata": {},
   "source": [
    "###### Observations -\n",
    "Most of the loan amounts are in the range 5000-15000"
   ]
  },
  {
   "cell_type": "code",
   "execution_count": 81,
   "metadata": {
    "scrolled": true
   },
   "outputs": [
    {
     "name": "stderr",
     "output_type": "stream",
     "text": [
      "C:\\Users\\akhil\\AppData\\Local\\Temp/ipykernel_3916/4240126525.py:6: UserWarning: \n",
      "\n",
      "`distplot` is a deprecated function and will be removed in seaborn v0.14.0.\n",
      "\n",
      "Please adapt your code to use either `displot` (a figure-level function with\n",
      "similar flexibility) or `histplot` (an axes-level function for histograms).\n",
      "\n",
      "For a guide to updating your code to use the new functions, please see\n",
      "https://gist.github.com/mwaskom/de44147ed2974457ad6372750bbe5751\n",
      "\n",
      "  ax=sns.distplot(df['annual_inc'],rug=True)\n"
     ]
    },
    {
     "data": {
      "text/plain": [
       "Text(0, 0.5, 'Annual Income')"
      ]
     },
     "execution_count": 81,
     "metadata": {},
     "output_type": "execute_result"
    },
    {
     "data": {
      "image/png": "[encoded data removed]",
      "text/plain": [
       "<Figure size 1080x576 with 2 Axes>"
      ]
     },
     "metadata": {},
     "output_type": "display_data"
    }
   ],
   "source": [
    "plot.figure(figsize=(15,8),facecolor='g')\n",
    "\n",
    "with plot.style.context('dark_background'):\n",
    "  #Subplot1\n",
    "  plot.subplot(2,2,1)\n",
    "  ax=sns.distplot(df['annual_inc'],rug=True)\n",
    "  ax.set(title='Annual Income-Distribution Plot')\n",
    "  ax.set_xlabel('Annual Income',fontsize=14,color='w')\n",
    "\n",
    "#Subplot2\n",
    "sns.set_style(\"dark\")\n",
    "plot.subplot(2,2,2)\n",
    "ax=sns.boxplot(y=df['annual_inc'])\n",
    "ax.set(title='Annual Income-Box Plot')\n",
    "ax.set_ylabel('Annual Income',fontsize=14,color='w')"
   ]
  },
  {
   "cell_type": "markdown",
   "metadata": {},
   "source": [
    "## observation\n",
    "Median income is between 55K-60K."
   ]
  },
  {
   "cell_type": "code",
   "execution_count": 91,
   "metadata": {},
   "outputs": [
    {
     "data": {
      "text/html": [
       "<div>\n",
       "<style scoped>\n",
       "    .dataframe tbody tr th:only-of-type {\n",
       "        vertical-align: middle;\n",
       "    }\n",
       "\n",
       "    .dataframe tbody tr th {\n",
       "        vertical-align: top;\n",
       "    }\n",
       "\n",
       "    .dataframe thead th {\n",
       "        text-align: right;\n",
       "    }\n",
       "</style>\n",
       "<table border=\"1\" class=\"dataframe\">\n",
       "  <thead>\n",
       "    <tr style=\"text-align: right;\">\n",
       "      <th>loan_status</th>\n",
       "      <th>purpose</th>\n",
       "      <th>0</th>\n",
       "      <th>1</th>\n",
       "      <th>Total</th>\n",
       "      <th>ChargedOff_Proportion</th>\n",
       "    </tr>\n",
       "  </thead>\n",
       "  <tbody>\n",
       "    <tr>\n",
       "      <th>11</th>\n",
       "      <td>small_business</td>\n",
       "      <td>1168</td>\n",
       "      <td>454</td>\n",
       "      <td>1622</td>\n",
       "      <td>0.279901</td>\n",
       "    </tr>\n",
       "    <tr>\n",
       "      <th>10</th>\n",
       "      <td>renewable_energy</td>\n",
       "      <td>77</td>\n",
       "      <td>18</td>\n",
       "      <td>95</td>\n",
       "      <td>0.189474</td>\n",
       "    </tr>\n",
       "    <tr>\n",
       "      <th>3</th>\n",
       "      <td>educational</td>\n",
       "      <td>255</td>\n",
       "      <td>54</td>\n",
       "      <td>309</td>\n",
       "      <td>0.174757</td>\n",
       "    </tr>\n",
       "    <tr>\n",
       "      <th>8</th>\n",
       "      <td>moving</td>\n",
       "      <td>458</td>\n",
       "      <td>90</td>\n",
       "      <td>548</td>\n",
       "      <td>0.164234</td>\n",
       "    </tr>\n",
       "    <tr>\n",
       "      <th>9</th>\n",
       "      <td>other</td>\n",
       "      <td>3085</td>\n",
       "      <td>601</td>\n",
       "      <td>3686</td>\n",
       "      <td>0.163049</td>\n",
       "    </tr>\n",
       "    <tr>\n",
       "      <th>5</th>\n",
       "      <td>house</td>\n",
       "      <td>283</td>\n",
       "      <td>55</td>\n",
       "      <td>338</td>\n",
       "      <td>0.162722</td>\n",
       "    </tr>\n",
       "    <tr>\n",
       "      <th>7</th>\n",
       "      <td>medical</td>\n",
       "      <td>536</td>\n",
       "      <td>103</td>\n",
       "      <td>639</td>\n",
       "      <td>0.161189</td>\n",
       "    </tr>\n",
       "    <tr>\n",
       "      <th>2</th>\n",
       "      <td>debt_consolidation</td>\n",
       "      <td>14621</td>\n",
       "      <td>2672</td>\n",
       "      <td>17293</td>\n",
       "      <td>0.154513</td>\n",
       "    </tr>\n",
       "    <tr>\n",
       "      <th>12</th>\n",
       "      <td>vacation</td>\n",
       "      <td>312</td>\n",
       "      <td>52</td>\n",
       "      <td>364</td>\n",
       "      <td>0.142857</td>\n",
       "    </tr>\n",
       "    <tr>\n",
       "      <th>4</th>\n",
       "      <td>home_improvement</td>\n",
       "      <td>2232</td>\n",
       "      <td>319</td>\n",
       "      <td>2551</td>\n",
       "      <td>0.125049</td>\n",
       "    </tr>\n",
       "    <tr>\n",
       "      <th>0</th>\n",
       "      <td>car</td>\n",
       "      <td>1288</td>\n",
       "      <td>158</td>\n",
       "      <td>1446</td>\n",
       "      <td>0.109267</td>\n",
       "    </tr>\n",
       "    <tr>\n",
       "      <th>1</th>\n",
       "      <td>credit_card</td>\n",
       "      <td>4264</td>\n",
       "      <td>518</td>\n",
       "      <td>4782</td>\n",
       "      <td>0.108323</td>\n",
       "    </tr>\n",
       "    <tr>\n",
       "      <th>6</th>\n",
       "      <td>major_purchase</td>\n",
       "      <td>1825</td>\n",
       "      <td>216</td>\n",
       "      <td>2041</td>\n",
       "      <td>0.105830</td>\n",
       "    </tr>\n",
       "    <tr>\n",
       "      <th>13</th>\n",
       "      <td>wedding</td>\n",
       "      <td>800</td>\n",
       "      <td>92</td>\n",
       "      <td>892</td>\n",
       "      <td>0.103139</td>\n",
       "    </tr>\n",
       "  </tbody>\n",
       "</table>\n",
       "</div>"
      ],
      "text/plain": [
       "loan_status             purpose      0     1  Total  ChargedOff_Proportion\n",
       "11               small_business   1168   454   1622               0.279901\n",
       "10             renewable_energy     77    18     95               0.189474\n",
       "3                   educational    255    54    309               0.174757\n",
       "8                        moving    458    90    548               0.164234\n",
       "9                         other   3085   601   3686               0.163049\n",
       "5                         house    283    55    338               0.162722\n",
       "7                       medical    536   103    639               0.161189\n",
       "2            debt_consolidation  14621  2672  17293               0.154513\n",
       "12                     vacation    312    52    364               0.142857\n",
       "4              home_improvement   2232   319   2551               0.125049\n",
       "0                           car   1288   158   1446               0.109267\n",
       "1                   credit_card   4264   518   4782               0.108323\n",
       "6                major_purchase   1825   216   2041               0.105830\n",
       "13                      wedding    800    92    892               0.103139"
      ]
     },
     "execution_count": 91,
     "metadata": {},
     "output_type": "execute_result"
    }
   ],
   "source": [
    "##1: Charged of 0: fully paid\n",
    "purpose_vs_loan = df.groupby(['purpose','loan_status']).loan_status.count().unstack().fillna(0).reset_index()\n",
    "purpose_vs_loan['Total']=purpose_vs_loan[1]+purpose_vs_loan[0]\n",
    "purpose_vs_loan['ChargedOff_Proportion']=purpose_vs_loan[1]/purpose_vs_loan['Total']\n",
    "purpose_vs_loan.sort_values('ChargedOff_Proportion',ascending=False)"
   ]
  },
  {
   "cell_type": "code",
   "execution_count": 92,
   "metadata": {},
   "outputs": [
    {
     "data": {
      "image/png": "[encoded data removed]",
      "text/plain": [
       "<Figure size 1008x576 with 1 Axes>"
      ]
     },
     "metadata": {},
     "output_type": "display_data"
    }
   ],
   "source": [
    "#Drawing Bar Charts from above data\n",
    "\n",
    "with plot.style.context('dark_background'):\n",
    "  fig,ax1=plot.subplots(figsize=(14,8),facecolor='b')\n",
    "  ax1.set(title='Purpose of Loans Vs. Charged Off Proportion')\n",
    "  ax1=sns.barplot(y='purpose',x='ChargedOff_Proportion',data=purpose_vs_loan)\n",
    "  ax1.set_ylabel('Purpose of Loans',fontsize=14,color='w')\n",
    "  ax1.set_xlabel('ChargedOff Proportion',fontsize=14,color='w')"
   ]
  },
  {
   "cell_type": "markdown",
   "metadata": {},
   "source": [
    "## Observation\n",
    "most of the loan taken for small business have chance to be default\n"
   ]
  }
 ],
 "metadata": {
  "kernelspec": {
   "display_name": "Python 3 (ipykernel)",
   "language": "python",
   "name": "python3"
  },
  "language_info": {
   "codemirror_mode": {
    "name": "ipython",
    "version": 3
   },
   "file_extension": ".py",
   "mimetype": "text/x-python",
   "name": "python",
   "nbconvert_exporter": "python",
   "pygments_lexer": "ipython3",
   "version": "3.9.7"
  }
 },
 "nbformat": 4,
 "nbformat_minor": 2
}
